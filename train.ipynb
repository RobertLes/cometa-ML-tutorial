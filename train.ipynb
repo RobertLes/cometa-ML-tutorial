{
 "cells": [
  {
   "cell_type": "markdown",
   "metadata": {},
   "source": [
    "# Code summary\n",
    "This notebook will guide a very simple example of how to train a classifier (aka \"jet-tagger\") with pytorch using th ATLAS top-tagging dataset at https://opendata.cern.ch/record/80030.\n",
    "\n",
    "To be able to run this tutorial within a reasonable time, we will develop just a tagger on the 16 high-level features stored. Constituent level taggers can be easily done using the below recipes, but the training time can easily go into the range of days. For similar time reasons, we will only run on one file of 1 million jets, as opposed to the full dataset (which is several hundred GB in total size to download locally as well).\n",
    "\n",
    "We will assume you are familiar with the inspect_inputs.ipynb notebook already and will skip the explanantion on the file format and how to access the data.\n",
    "\n",
    "Much of the code below is more elaborate then is needed for a simple tutorial, but this is so that it can provide a useful copy-and-paste template for your own projects."
   ]
  },
  {
   "cell_type": "markdown",
   "metadata": {},
   "source": [
    "## Acessing the data\n",
    "Exactly as before, lets download an input file to inspect"
   ]
  },
  {
   "cell_type": "code",
   "execution_count": 1,
   "metadata": {},
   "outputs": [],
   "source": [
    "import sys,os\n",
    "if not(os.path.isfile(\"train_nominal_000.h5\")):\n",
    "    if sys.platform==\"darwin\": #MAC OSX\n",
    "        !curl https://opendata.cern.ch/record/80030/files/assets/atlas/datascience/CERN-EP-2024-159/train_nominal_000.h5.gz --output train_nominal_000.h5.gz\n",
    "        !curl https://opendata.cern.ch/record/80030/files/assets/atlas/datascience/CERN-EP-2024-159/test_nominal_000.h5.gz --output test_nominal_000.h5.gz\n",
    "    elif sys.platform == \"linux\" or sys.platform == \"linux2\":\n",
    "        !wget https://opendata.cern.ch/record/80030/files/assets/atlas/datascience/CERN-EP-2024-159/train_nominal_000.h5.gz\n",
    "        !wget https://opendata.cern.ch/record/80030/files/assets/atlas/datascience/CERN-EP-2024-159/test_nominal_000.h5.gz\n",
    "    !gunzip -f train_nominal_000.h5.gz\n",
    "    !gunzip -f test_nominal_000.h5.gz"
   ]
  },
  {
   "cell_type": "markdown",
   "metadata": {},
   "source": [
    "And let's import some packages we will need"
   ]
  },
  {
   "cell_type": "code",
   "execution_count": 2,
   "metadata": {},
   "outputs": [],
   "source": [
    "import torch\n",
    "from torch import nn\n",
    "from torch.utils.data import DataLoader, ConcatDataset, Dataset\n",
    "from torchinfo import summary\n",
    "\n",
    "import matplotlib.pyplot as plt\n",
    "import h5py\n",
    "import numpy as np\n",
    "import time"
   ]
  },
  {
   "cell_type": "markdown",
   "metadata": {},
   "source": [
    "## Preparing the inputs for training\n",
    "\n",
    "90% of the hard work of running any machine-learning algorithm is setting up your data in the right form.\n",
    "\n",
    "To faciliate reading the data very efficiently we will use the pytorch `DataLoader` class to do most of this heavy lifting. This is one of the only things you would need to adapt if you want to use this code for other NN training. For each dataset you need to define a new class which inherits from pytorch `Dataset` which specifies how to access your data. It needs a `__init__` method to do any preamble works, a  `__getitem__` method which specifies how to access a single data sample, and `__len__` method to specify how to figure out the batch size correctly.\n",
    "\n",
    "After this the pytorch dataloader will handle the rest!\n",
    "\n",
    "For this case we will use the `__init__` function to opent the necessary file, and read the HDF5 \"Dataset\" objects. We also will be mentally pro-active and feed the code an optional transform object to pre-process the data. The `__getitem__` just then simply calls the specific entry of the HDF5 \"Dataset\" and return a pytorch `torch.tensor` object, which functions almost identical to a numpy array (this isn't expliclity needed, but convenient for us as we will just use tensors from here on). \n",
    "\n",
    "The HDF5+Dataloader combination is quite memory efficienct and will only load into memory the batch of data at a time, as opposed to the whole thing in memmory. The dataset has one complexitiy in that only the training sample has training weights, so we will just return a `1` for testing events which lack this."
   ]
  },
  {
   "cell_type": "code",
   "execution_count": 3,
   "metadata": {},
   "outputs": [],
   "source": [
    "class ATLASH5HighLevelDataset(torch.utils.data.Dataset):\n",
    "    def __init__(self, file_path, transform=True):\n",
    "        super(ATLASH5HighLevelDataset, self).__init__()\n",
    "        \n",
    "        #load the file and specify a data object for later convenience\n",
    "        h5_file = h5py.File(file_path , 'r')\n",
    "        self.data=torch.tensor([])\n",
    "    \n",
    "        #Get in input variables\n",
    "        self.C2=h5_file['fjet_C2']\n",
    "        self.D2=h5_file['fjet_D2']\n",
    "        self.ECF1=h5_file['fjet_ECF1']\n",
    "        self.ECF2=h5_file['fjet_ECF2']\n",
    "        self.ECF3=h5_file['fjet_ECF3']\n",
    "        self.L2=h5_file['fjet_L2']\n",
    "        self.L3=h5_file['fjet_L3']\n",
    "        self.Qw=h5_file['fjet_Qw']\n",
    "        self.Split12=h5_file['fjet_Split12']\n",
    "        self.Split23=h5_file['fjet_Split23']\n",
    "        self.Tau1_wta=h5_file['fjet_Tau1_wta']\n",
    "        self.Tau2_wta=h5_file['fjet_Tau2_wta']\n",
    "        self.Tau3_wta=h5_file['fjet_Tau3_wta']\n",
    "        self.Tau4_wta=h5_file['fjet_Tau4_wta']\n",
    "        self.ThrustMaj=h5_file['fjet_ThrustMaj']\n",
    "        self.m=h5_file['fjet_m']\n",
    "        self.pt = h5_file['fjet_pt']\n",
    "        self.labels = h5_file['labels']\n",
    "        \n",
    "        #pre-process the inputs\n",
    "        if transform:\n",
    "            self.C2=self.transform(self.C2)\n",
    "            self.D2=self.transform(self.D2)\n",
    "            self.ECF1=self.transform(self.ECF1)\n",
    "            self.ECF2=self.transform(self.ECF2)\n",
    "            self.ECF3=self.transform(self.ECF3)\n",
    "            self.L2=self.transform(self.L2)\n",
    "            self.L3=self.transform(self.L3)\n",
    "            self.Qw=self.transform(self.Qw)\n",
    "            self.Split12=self.transform(self.Split12)\n",
    "            self.Split23=self.transform(self.Split23)\n",
    "            self.Tau1_wta=self.transform(self.Tau1_wta)\n",
    "            self.Tau2_wta=self.transform(self.Tau2_wta)\n",
    "            self.Tau3_wta=self.transform(self.Tau3_wta)\n",
    "            self.Tau4_wta=self.transform(self.Tau4_wta)\n",
    "            self.ThrustMaj=self.transform(self.ThrustMaj)\n",
    "            self.m=self.transform(self.m)\n",
    "        \n",
    "        #If has training weights access those too\n",
    "        if \"training_weights\" in h5_file:\n",
    "            self.hasWeights=True\n",
    "            self.weights = h5_file['training_weights']\n",
    "        else:\n",
    "            self.hasWeights=False\n",
    "        \n",
    "    def __getitem__(self, index):\n",
    "        #Make the array of high-level features\n",
    "        self.data=torch.tensor([self.D2[index],self.C2[index],self.ECF1[index],self.ECF2[index],self.ECF3[index],self.L2[index],self.L3[index],self.Qw[index],self.Split12[index],self.Split23[index],self.Tau1_wta[index],self.Tau2_wta[index],self.Tau3_wta[index],self.Tau4_wta[index],self.ThrustMaj[index],self.m[index]])\n",
    "    \n",
    "        #Finally return [inputs, labels, and weight]\n",
    "        if self.hasWeights:\n",
    "            return self.data,torch.tensor(self.labels[index],dtype=torch.int64),torch.tensor(self.weights[index])\n",
    "        else:\n",
    "            return self.data,torch.tensor(self.labels[index],dtype=torch.int64),torch.tensor(1)\n",
    "    \n",
    "    def __len__(self):\n",
    "        return len(self.labels)"
   ]
  },
  {
   "cell_type": "markdown",
   "metadata": {},
   "source": [
    "As hinted above, you may want to do some pre-processing of your data. If you want to do this on-the-fly, you can easily add a new method to your class and call it.\n",
    "\n",
    "Usually neural nets perform better when the input variables are on the same scale, which ours are not currently (e.x. eta is ~1 but pt from 1e3-1e6 MeV). So we will apply a little pre-processing where we scale the distribution to be between 0 and 1."
   ]
  },
  {
   "cell_type": "code",
   "execution_count": 4,
   "metadata": {},
   "outputs": [],
   "source": [
    "def transform(self,data):\n",
    "    \n",
    "    #Calculate some metrics from subsample of total\n",
    "    vals=[]\n",
    "    Njets=np.max([1000,data.len()])\n",
    "    for jet in range(Njets): vals.append(data[jet])\n",
    "    maxval=np.max(vals)\n",
    "    minval=np.min(vals)\n",
    "    return (data-minval)/(maxval-minval)\n",
    "\n",
    "setattr(ATLASH5HighLevelDataset, 'transform', transform) #can setattr or just include in original class definiton above"
   ]
  },
  {
   "cell_type": "markdown",
   "metadata": {},
   "source": [
    "Okay now lets make a little script to load up any input files into our custom pytorch `Dataset` and into a `DataLoader`. Note this script is more complicated then it needs to be for just single file inputs like ours, but it generalizes to when you may want to run over many inputs\n",
    "\n",
    "First we just get the list of input files, then we just feed them into a seperate `ATLASH5HighLevelDataset` for each file. Then we can use `ConcatDataset` to easily append these all into one dataset. (I find this more memory efficient then having one Dataset try to load in multiple files at once).\n",
    "\n",
    "Then we just feed this `Dataset` into a `DataLoader`. Here we tell the loader the batch size and to shuffle the data and it will automate the rest of the work! This might have seemed pretty convoluted but using these pytorch classes is simpler then trying to automate many of these procedure efficiently yourself. (Also if in other projects you need to split the training/testing sample yourself you can use `torch.utils.data.random_split` on the dataset)"
   ]
  },
  {
   "cell_type": "code",
   "execution_count": 5,
   "metadata": {},
   "outputs": [],
   "source": [
    "def get_ATLAS_inputs(directory,batch_size=2**8,transform=True,constituents=False):\n",
    "    \n",
    "    #Get list of input files\n",
    "    training_list=[]\n",
    "    testing_list=[]\n",
    "    for file in sorted(os.listdir(directory)):\n",
    "        if not \".h5\" in file: continue\n",
    "        if \"train\" in file:\n",
    "            print(\"Using file %s for training\"%(directory+\"/\"+file))\n",
    "            training_list.append(directory+\"/\"+file)\n",
    "        elif \"test\" in file:\n",
    "            print(\"Using file %s for testing\"%(directory+\"/\"+file))\n",
    "            testing_list.append(directory+\"/\"+file)\n",
    "    \n",
    "    #Get the datasets via our custom torch.utils.data.Dataset class\n",
    "    training_DSlist=[]\n",
    "    testing_DSlist=[]\n",
    "    if constituents==True:\n",
    "        for file in training_list: training_DSlist.append(ATLASH5LowLevelDataset(file))\n",
    "        for file in testing_list: testing_DSlist.append(ATLASH5LowLevelDataset(file))\n",
    "    else:\n",
    "        for file in training_list: training_DSlist.append(ATLASH5HighLevelDataset(file,transform=transform))\n",
    "        for file in testing_list: testing_DSlist.append(ATLASH5HighLevelDataset(file,transform=transform))\n",
    "    \n",
    "    #concat them into one object\n",
    "    training_data = ConcatDataset(training_DSlist)\n",
    "    testing_data = ConcatDataset(testing_DSlist)\n",
    "    \n",
    "    #load them into torch dataloaders \n",
    "    train_dataloader = DataLoader(training_data, batch_size=batch_size, shuffle=True)\n",
    "    test_dataloader = DataLoader(testing_data, batch_size=batch_size, shuffle=True)\n",
    "    \n",
    "    #return\n",
    "    return train_dataloader, test_dataloader"
   ]
  },
  {
   "cell_type": "markdown",
   "metadata": {},
   "source": [
    "Now let's call this function and load in the info! We'll include some walltime clocking as well "
   ]
  },
  {
   "cell_type": "code",
   "execution_count": 6,
   "metadata": {},
   "outputs": [
    {
     "name": "stdout",
     "output_type": "stream",
     "text": [
      "Using file .//test_nominal_000.h5 for testing\n",
      "Using file .//train_nominal_000.h5 for training\n",
      "Took 1.060e+01 seconds to run data loading\n",
      "\n"
     ]
    }
   ],
   "source": [
    "#Get dataloaders,\n",
    "starttime=time.time()\n",
    "train_dataloader,test_dataloader=get_ATLAS_inputs(\"./\",batch_size=2**8)\n",
    "print(\"Took %.3e seconds to run data loading\\n\"%((time.time()-starttime)))"
   ]
  },
  {
   "cell_type": "markdown",
   "metadata": {},
   "source": [
    "So now we can see the benefit of our labour as we can enumerate over the datasets now very quickly. Let's look at just the first entry."
   ]
  },
  {
   "cell_type": "code",
   "execution_count": 7,
   "metadata": {},
   "outputs": [
    {
     "name": "stdout",
     "output_type": "stream",
     "text": [
      "Shape of x: torch.Size([256, 16]), torch.float32\n",
      "Shape of y: torch.Size([256]) torch.int64\n",
      "Shape of z: torch.Size([256]) torch.float32\n",
      "tensor([[0.0788, 0.2470, 0.2727,  ..., 0.1230, 0.6238, 0.0597],\n",
      "        [0.0257, 0.0403, 0.3342,  ..., 0.0036, 0.8706, 0.0204],\n",
      "        [0.0522, 0.4604, 0.1015,  ..., 0.2512, 0.7465, 0.0766],\n",
      "        ...,\n",
      "        [0.1155, 0.1099, 0.3453,  ..., 0.0627, 0.4007, 0.0222],\n",
      "        [0.0473, 0.0630, 0.2947,  ..., 0.0363, 0.6971, 0.0165],\n",
      "        [0.0409, 0.0754, 0.4915,  ..., 0.0400, 0.8447, 0.0569]]) tensor([1, 0, 0, 1, 1, 1, 1, 1, 1, 0, 1, 1, 0, 1, 0, 0, 0, 1, 0, 0, 1, 0, 0, 0,\n",
      "        1, 0, 1, 0, 0, 1, 1, 0, 1, 0, 0, 0, 0, 1, 1, 1, 1, 1, 0, 0, 0, 0, 1, 1,\n",
      "        0, 0, 1, 0, 0, 0, 1, 0, 0, 1, 1, 1, 1, 1, 0, 1, 0, 0, 1, 1, 0, 0, 0, 0,\n",
      "        0, 1, 1, 0, 0, 1, 1, 1, 0, 1, 1, 1, 0, 0, 0, 0, 1, 1, 0, 0, 0, 0, 1, 0,\n",
      "        0, 1, 0, 1, 1, 1, 0, 1, 0, 1, 1, 1, 0, 1, 0, 1, 1, 1, 1, 0, 1, 1, 1, 0,\n",
      "        1, 0, 1, 1, 0, 0, 1, 1, 1, 0, 0, 0, 0, 1, 1, 0, 0, 0, 0, 1, 1, 1, 0, 1,\n",
      "        1, 0, 1, 1, 0, 1, 0, 0, 1, 0, 1, 1, 1, 0, 1, 1, 1, 0, 0, 0, 0, 0, 0, 1,\n",
      "        1, 0, 1, 0, 1, 1, 1, 0, 1, 0, 1, 0, 0, 1, 0, 1, 1, 1, 1, 1, 1, 1, 1, 1,\n",
      "        0, 0, 0, 1, 1, 1, 0, 1, 1, 0, 1, 0, 0, 1, 0, 1, 1, 1, 1, 1, 1, 0, 1, 0,\n",
      "        0, 1, 0, 0, 1, 1, 0, 0, 1, 0, 1, 0, 1, 1, 0, 1, 0, 1, 0, 1, 1, 0, 0, 0,\n",
      "        1, 0, 1, 1, 0, 1, 0, 1, 0, 0, 0, 1, 0, 0, 1, 0]) tensor([1.0000, 1.4518, 0.4343, 1.0000, 1.0000, 1.0000, 1.0000, 1.0000, 1.0000,\n",
      "        0.2886, 1.0000, 1.0000, 1.0345, 1.0000, 0.7207, 0.5515, 2.7716, 1.0000,\n",
      "        1.9603, 0.6035, 1.0000, 0.9246, 1.4643, 0.0970, 1.0000, 0.6035, 1.0000,\n",
      "        1.2953, 1.0820, 1.0000, 1.0000, 1.4518, 1.0000, 0.2266, 0.8484, 0.1419,\n",
      "        1.3728, 1.0000, 1.0000, 1.0000, 1.0000, 1.0000, 0.8030, 0.1775, 0.9353,\n",
      "        0.1181, 1.0000, 1.0000, 1.8602, 0.1037, 1.0000, 1.8742, 1.4021, 0.0970,\n",
      "        1.0000, 1.1606, 1.1621, 1.0000, 1.0000, 1.0000, 1.0000, 1.0000, 0.6077,\n",
      "        1.0000, 1.4325, 1.8521, 1.0000, 1.0000, 1.2904, 1.6912, 1.2701, 0.1419,\n",
      "        0.6315, 1.0000, 1.0000, 2.3168, 0.9426, 1.0000, 1.0000, 1.0000, 1.3348,\n",
      "        1.0000, 1.0000, 1.0000, 1.3469, 1.4774, 0.7207, 1.3140, 1.0000, 1.0000,\n",
      "        0.6141, 0.1037, 0.6035, 0.8952, 1.0000, 0.2266, 0.6086, 1.0000, 0.8484,\n",
      "        1.0000, 1.0000, 1.0000, 1.1621, 1.0000, 0.0970, 1.0000, 1.0000, 1.0000,\n",
      "        0.0970, 1.0000, 0.8484, 1.0000, 1.0000, 1.0000, 1.0000, 3.1954, 1.0000,\n",
      "        1.0000, 1.0000, 0.1419, 1.0000, 0.9203, 1.0000, 1.0000, 0.1037, 0.5515,\n",
      "        1.0000, 1.0000, 1.0000, 0.5865, 1.7916, 1.1722, 1.7355, 1.0000, 1.0000,\n",
      "        0.7207, 0.1181, 0.1181, 1.7355, 1.0000, 1.0000, 1.0000, 0.1181, 1.0000,\n",
      "        1.0000, 0.0970, 1.0000, 1.0000, 0.7207, 1.0000, 0.1037, 0.6202, 1.0000,\n",
      "        2.9045, 1.0000, 1.0000, 1.0000, 2.2724, 1.0000, 1.0000, 1.0000, 0.0970,\n",
      "        0.0970, 1.4746, 0.9895, 0.5997, 1.3484, 1.0000, 1.0000, 2.2036, 1.0000,\n",
      "        1.6853, 1.0000, 1.0000, 1.0000, 1.2904, 1.0000, 0.6141, 1.0000, 0.9609,\n",
      "        0.0970, 1.0000, 0.9863, 1.0000, 1.0000, 1.0000, 1.0000, 1.0000, 1.0000,\n",
      "        1.0000, 1.0000, 1.0000, 1.3405, 0.1181, 1.8602, 1.0000, 1.0000, 1.0000,\n",
      "        0.0970, 1.0000, 1.0000, 1.2986, 1.0000, 0.0970, 1.4761, 1.0000, 0.6077,\n",
      "        1.0000, 1.0000, 1.0000, 1.0000, 1.0000, 1.0000, 1.2904, 1.0000, 1.3069,\n",
      "        1.0239, 1.0000, 0.2266, 1.1716, 1.0000, 1.0000, 0.0970, 0.1181, 1.0000,\n",
      "        1.4746, 1.0000, 1.2256, 1.0000, 1.0000, 0.1037, 1.0000, 0.1037, 1.0000,\n",
      "        0.0970, 1.0000, 1.0000, 0.5010, 0.9194, 0.1419, 1.0000, 0.0970, 1.0000,\n",
      "        1.0000, 0.0970, 1.0000, 1.3804, 1.0000, 1.5783, 0.9863, 1.3697, 1.0000,\n",
      "        0.6141, 1.3683, 1.0000, 1.3804])\n"
     ]
    }
   ],
   "source": [
    "#Quick debug on input shape\n",
    "for x, y, z in train_dataloader:\n",
    "    print(f\"Shape of x: {x.shape}, {x.dtype}\")\n",
    "    print(f\"Shape of y: {y.shape} {y.dtype}\")\n",
    "    print(f\"Shape of z: {z.shape} {z.dtype}\")\n",
    "    print(x,y,z)\n",
    "    break"
   ]
  },
  {
   "cell_type": "markdown",
   "metadata": {},
   "source": [
    "So we can each call returns a triple of number, which is what we specified in our `__getitem__` class function. We had defined it to return \\[inputs, truth label, weight\\]. Looking at the dimnesions you can see one pass of the data-loader loads up an array of dimension \\[256, \\], where this 256 is the batch dimension, aka the number of jets. So every pass of the data-loader will load up a new batch of 256 jets. \n",
    "\n",
    "Also note you can see from `x` value you can make these returns as complex in dimension as you want. These `torch.tensor` objects can also be sliced/indexed like numpy arrays for convenience and usually have the same class methods available."
   ]
  },
  {
   "cell_type": "markdown",
   "metadata": {},
   "source": [
    "## Defining a Neural net model\n",
    "\n",
    "Okay now onto defining the model we would like to fit. This is the other part which involves user input/design, but is much easier then you would expect. Let's make just a simple dense neural network 4 layers deep, with 512 hidden node per layer, and ReLU activation functions.\n",
    "\n",
    "A pytorch model will inherit from `torch.nn.Module`, it just needs the usually intializer and a `forward` function. Almost everything you would want is already available in the `torch.nn` package, so you can look at the classes available there. The most generic way to define a model is to make an object for each layer and activation, then in the forward pass to just call these classes in the order desired.\n",
    "\n",
    "The one thing we will note here is that the final output layer is actually 2 nodes, while we are just planning to do binary classification. You can of course phrase the problem with just one output node, but we will have the tutorial with 2 nodes as it generalizes to when you may want to do multiple classification problems (say Higgs vs W vs top vs QCD tagging)"
   ]
  },
  {
   "cell_type": "code",
   "execution_count": 8,
   "metadata": {},
   "outputs": [],
   "source": [
    "class DNNetwork(nn.Module):\n",
    "    def __init__(self, Ninputs): #Here we decide to feed the class also an Ninputs variation to make it robust to input list changes\n",
    "        super().__init__()    \n",
    "\n",
    "        #Define the actual layers and activations fucntions\n",
    "        self.fc1= nn.Linear(Ninputs, 512)\n",
    "        self.act1=nn.ReLU()\n",
    "        self.fc2= nn.Linear(512, 512)\n",
    "        self.act2=nn.ReLU()\n",
    "        self.fc3= nn.Linear(512, 512)\n",
    "        self.act3=nn.ReLU()\n",
    "        self.fc4= nn.Linear(512, 2)\n",
    "        self.act4=nn.Sigmoid() # We won't apply this since done in loss function\n",
    "    \n",
    "    def forward(self, x):\n",
    "        \n",
    "        #Put these layers together in sequence\n",
    "        f1=self.act1(self.fc1(x))\n",
    "        f2=self.act2(self.fc2(f1))\n",
    "        f3=self.act3(self.fc3(f2))\n",
    "        \n",
    "        #We will return just the last layer values, no activations here\n",
    "        logits = self.fc4(f3)\n",
    "        return logits\n"
   ]
  },
  {
   "cell_type": "markdown",
   "metadata": {},
   "source": [
    "That wasn't too bad, now let's call the model. We'll first get the dimension size and feed it to the model.\n",
    "\n",
    "I'll also show you a quick little feature of pytorch, which is how to put things on GPU (if it's available). All you need to do is have the device name, usually something like `cuda:0` and then for whatever you want to load onto the GPU memory, like the model or the input `torch.tensor`, you just call `.to(device)` method on it to send it there. As \"simple\" as that. Probably you will just have `device=\"cpu\"` here which is fine for this tutorial"
   ]
  },
  {
   "cell_type": "code",
   "execution_count": 9,
   "metadata": {},
   "outputs": [
    {
     "name": "stdout",
     "output_type": "stream",
     "text": [
      "\n",
      "Using device \"cpu\"\n",
      "\n"
     ]
    }
   ],
   "source": [
    "#Get size of the input\n",
    "Ndim = x.size(dim=1)\n",
    "\n",
    "#Get whether a GPU is available\n",
    "device = ( \"cuda\" if torch.cuda.is_available() else \"mps\" if torch.backends.mps.is_available() else \"cpu\")\n",
    "print(f\"\\nUsing device \\\"{device}\\\"\\n\")\n",
    "\n",
    "#Now make the model\n",
    "model = DNNetwork(Ndim).to(device)"
   ]
  },
  {
   "cell_type": "markdown",
   "metadata": {},
   "source": [
    "Okay now let's do a bit of model visualization, we can just print the model"
   ]
  },
  {
   "cell_type": "code",
   "execution_count": 10,
   "metadata": {},
   "outputs": [
    {
     "name": "stdout",
     "output_type": "stream",
     "text": [
      "DNNetwork(\n",
      "  (fc1): Linear(in_features=16, out_features=512, bias=True)\n",
      "  (act1): ReLU()\n",
      "  (fc2): Linear(in_features=512, out_features=512, bias=True)\n",
      "  (act2): ReLU()\n",
      "  (fc3): Linear(in_features=512, out_features=512, bias=True)\n",
      "  (act3): ReLU()\n",
      "  (fc4): Linear(in_features=512, out_features=2, bias=True)\n",
      "  (act4): Sigmoid()\n",
      ")\n"
     ]
    }
   ],
   "source": [
    "print(model)"
   ]
  },
  {
   "cell_type": "markdown",
   "metadata": {},
   "source": [
    "Hmm maybe not the most useful, but still helpful. There is also the `torchinfo` package which we inlcuded as a dependency in this tutorial, which offers a bit more helpful breakdown"
   ]
  },
  {
   "cell_type": "code",
   "execution_count": 11,
   "metadata": {},
   "outputs": [
    {
     "data": {
      "text/plain": [
       "==================================================================================================================================\n",
       "Layer (type:depth-idx)                   Input Shape     Output Shape    Param #         Param %         Mult-Adds       Trainable\n",
       "==================================================================================================================================\n",
       "DNNetwork                                [256, 16]       [256, 2]        --                   --         --              True\n",
       "├─Linear: 1-1                            [256, 16]       [256, 512]      8,704             1.63%         2,228,224       True\n",
       "├─ReLU: 1-2                              [256, 512]      [256, 512]      --                   --         --              --\n",
       "├─Linear: 1-3                            [256, 512]      [256, 512]      262,656          49.09%         67,239,936      True\n",
       "├─ReLU: 1-4                              [256, 512]      [256, 512]      --                   --         --              --\n",
       "├─Linear: 1-5                            [256, 512]      [256, 512]      262,656          49.09%         67,239,936      True\n",
       "├─ReLU: 1-6                              [256, 512]      [256, 512]      --                   --         --              --\n",
       "├─Linear: 1-7                            [256, 512]      [256, 2]        1,026             0.19%         262,656         True\n",
       "==================================================================================================================================\n",
       "Total params: 535,042\n",
       "Trainable params: 535,042\n",
       "Non-trainable params: 0\n",
       "Total mult-adds (M): 136.97\n",
       "==================================================================================================================================\n",
       "Input size (MB): 0.02\n",
       "Forward/backward pass size (MB): 3.15\n",
       "Params size (MB): 2.14\n",
       "Estimated Total Size (MB): 5.31\n",
       "=================================================================================================================================="
      ]
     },
     "execution_count": 11,
     "metadata": {},
     "output_type": "execute_result"
    }
   ],
   "source": [
    "summary(model,input_size=x.size(),col_names=[\"input_size\", \"output_size\", \"num_params\",\"params_percent\",\"mult_adds\",\"trainable\"],col_width=15)"
   ]
  },
  {
   "cell_type": "markdown",
   "metadata": {},
   "source": [
    "Okay now that we have the inputs, and defined the model, we can finalize the problem definition by providing the loss function and optimizer procedure for that function.\n",
    "\n",
    "Here we will use cross entropy as our loss function, which is a common choice for such classification problems. One sneaky thing is that the `torch.nn.CrossEntropyLoss` class expects the \"logits\" of the network and applies a soft-max function on the inputs internally. So this is why we didn't apply this in the final layer of the network ouput. This choice from the developers is due to it being numerically faster/stabler, and you should keep an eye out for similar tricks for other loss functions in pytorch.\n",
    "\n",
    "We also will use Stochastic Gradient Descent as our optimizer. Adam is another (more common) choice. There are some options to the optimizer such as the learning rate, which are hyperparamaters, and should be optimized themselves for your problem. We'll just use some reasonable guesses for now"
   ]
  },
  {
   "cell_type": "code",
   "execution_count": 12,
   "metadata": {},
   "outputs": [],
   "source": [
    "loss_fn = nn.CrossEntropyLoss(reduction='none') #expects raw score\n",
    "optimizer = torch.optim.SGD(model.parameters(), lr=1e-1, momentum=0.0, weight_decay=1e-3)"
   ]
  },
  {
   "cell_type": "markdown",
   "metadata": {},
   "source": [
    "## Running the model training\n",
    "\n",
    "Okay the rest from here on out is pretty standard machine-learning approaches, and will be common to almost any problem.\n",
    "\n",
    "We'll first define a function for each training loop, just to modularize the code.\n",
    "\n",
    "We'll first set the model into \"training mode\", which just does some behind the scenes things for special cases like dropout and normalization layers. Then we start looping over the batches (note we also load into the device if using a GPU). Once the loop is done we will have gone over all the training data, aka an epoch.\n",
    "\n",
    "Then it's as simple as computing the loss and calling the backpropogation to update the neural net weights. But let's break this down. \n",
    "\n",
    "First we calculate the prediction of the model, just by calling it on the input tensor `X`. This calls the `forward` method we had defined earlier in the model class. This will be computed automatically across the batch so our prediction will be of dimension \\[batch, 2\\] since we have 2 ouput nodes. Then we provide the prediction and the true labels `y` into out loss fucntion. Since we have per-jet weights `w`, we will also do a quick weighted average of the loss function. The loss function is now one number over the batch\n",
    "\n",
    "Now to actually update the model parameters, we will first call optmizer `.zero_grad()` to remind pytorch to set all the gradients to zero (you might not want to do this for some networks like RNNs). Then on the loss fucntion you call `.backward()`, this does all the internal magic of calculating the gradients of the model paramaters! Then you let the optimizer do it's magic with `.step()` to actually update the model parameters based on their gradients\n",
    "\n",
    "It's as easy as that!!!"
   ]
  },
  {
   "cell_type": "code",
   "execution_count": 13,
   "metadata": {},
   "outputs": [],
   "source": [
    "def train(dataloader, model, loss_fn, optimizer, loss_train):\n",
    "    #set to train mode\n",
    "    model.train()\n",
    "    \n",
    "    #Loop over batches\n",
    "    size = len(dataloader.dataset)\n",
    "    for batch, (X, y, w) in enumerate(dataloader):\n",
    "        dev=device\n",
    "        X, y, w = X.to(dev), y.to(dev), w.to(dev)\n",
    "      \n",
    "        # Compute loss\n",
    "        pred = model(X)\n",
    "        loss = loss_fn(pred, y)\n",
    "        loss = (loss * w / w.sum()).sum() #weighted average of the loss function\n",
    "      \n",
    "        # Backpropagation\n",
    "        optimizer.zero_grad()\n",
    "        loss.backward()\n",
    "        optimizer.step()\n",
    "        \n",
    "        #Print some status\n",
    "        if batch % 100 == 0:\n",
    "            lossval, current = loss.item(), (batch + 1) * len(X)\n",
    "            print(f\"Training loss: {lossval:>7f}  [{current:>5d}/{size:>5d}]\")\n",
    "      \n",
    "    loss_train.append(loss.item())\n"
   ]
  },
  {
   "cell_type": "markdown",
   "metadata": {},
   "source": [
    "We'll also define a function for simplicity a function to evalaute the network performance on the training data. \n",
    "\n",
    "It is very similar to the train function but we don't update the gradients. For this we set the model in eval mode, to handle special layers like dropout and normalization layers, and also scope everything in `torch.no_grad()`, which just tells pytorch to not worry about graident layers.\n",
    "\n",
    "Then we again loop over the dataset, calculate the prediction, and find the loss function. We'll store an \"accuracy metric\" which is just the prediction of the networks largest node for fun"
   ]
  },
  {
   "cell_type": "code",
   "execution_count": 14,
   "metadata": {},
   "outputs": [],
   "source": [
    "def test(dataloader, model, loss_fn, loss_test, acc_test):\n",
    "    #Set to eval mode\n",
    "    model.eval()\n",
    "    \n",
    "    #Some info for averaging across the samples\n",
    "    num_samples = len(dataloader.dataset)\n",
    "    num_batches = len(dataloader)\n",
    "    avgloss, acc = 0, 0\n",
    "    \n",
    "    #Loop over batches\n",
    "    with torch.no_grad():\n",
    "        for X, y, w in dataloader:\n",
    "            X, y, w = X.to(device), y.to(device), w.to(device)\n",
    "        \n",
    "            #compute loss\n",
    "            pred=model(X)\n",
    "            loss=loss_fn(pred, y)\n",
    "            avgloss += loss.sum().item()\n",
    "        \n",
    "            #compute accuracy\n",
    "            pred=torch.sigmoid(pred)\n",
    "            acc += (torch.argmax(pred, dim=1) == y).type(torch.float).sum().item()\n",
    "    \n",
    "    #save and print some info\n",
    "    avgloss /= num_samples\n",
    "    acc /= num_samples\n",
    "    loss_test.append(avgloss)\n",
    "    acc_test.append(acc)\n",
    "    print(f\"Testing Error: Accuracy: {(100*acc):>0.1f}%, Avg loss: {avgloss:>8f}\")"
   ]
  },
  {
   "cell_type": "markdown",
   "metadata": {},
   "source": [
    "Okay now let's run the training cycle. It's really as simple as looping multiple times over our `train()` and `test()` function multiple times. We'll also save the model whenever it improves with `torch.save(model.state_dict(), outputfile)`\n",
    "\n",
    "Usually network performance on the testing dataset will degrade eventually, as the network becomes over-trained on the training dataset and can't extrapolate to other datasets. So we will define an early stopping criteria where once the performance on the testing dataset doens't improve over 5 epochs to stop the training.\n",
    "\n",
    "Now run below the cell below, but note it will probably take ~10min for even this simple network and small dataset"
   ]
  },
  {
   "cell_type": "code",
   "execution_count": 15,
   "metadata": {},
   "outputs": [
    {
     "name": "stdout",
     "output_type": "stream",
     "text": [
      "\n",
      "Epoch 1\n",
      "-------------------------------\n",
      "Training loss: 0.693953  [  256/100000]\n",
      "Training loss: 0.617148  [25856/100000]\n",
      "Training loss: 0.591087  [51456/100000]\n",
      "Training loss: 0.506891  [77056/100000]\n",
      "Testing Error: Accuracy: 74.3%, Avg loss: 0.539577\n",
      "Took 0.25 minutes to run\n",
      "Saving model since best loss\n",
      "\n",
      "Epoch 2\n",
      "-------------------------------\n",
      "Training loss: 0.517669  [  256/100000]\n",
      "Training loss: 0.524059  [25856/100000]\n",
      "Training loss: 0.436220  [51456/100000]\n",
      "Training loss: 0.540815  [77056/100000]\n",
      "Testing Error: Accuracy: 67.3%, Avg loss: 0.599453\n",
      "Took 0.26 minutes to run\n",
      "\n",
      "Epoch 3\n",
      "-------------------------------\n",
      "Training loss: 0.609958  [  256/100000]\n",
      "Training loss: 0.622845  [25856/100000]\n",
      "Training loss: 0.463098  [51456/100000]\n",
      "Training loss: 0.434911  [77056/100000]\n",
      "Testing Error: Accuracy: 81.4%, Avg loss: 0.418806\n",
      "Took 0.30 minutes to run\n",
      "Saving model since best loss\n",
      "\n",
      "Epoch 4\n",
      "-------------------------------\n",
      "Training loss: 0.409293  [  256/100000]\n",
      "Training loss: 0.452972  [25856/100000]\n",
      "Training loss: 0.446565  [51456/100000]\n",
      "Training loss: 0.455475  [77056/100000]\n",
      "Testing Error: Accuracy: 82.3%, Avg loss: 0.407771\n",
      "Took 0.28 minutes to run\n",
      "Saving model since best loss\n",
      "\n",
      "Epoch 5\n",
      "-------------------------------\n",
      "Training loss: 0.444982  [  256/100000]\n",
      "Training loss: 0.421886  [25856/100000]\n",
      "Training loss: 0.416368  [51456/100000]\n",
      "Training loss: 0.433506  [77056/100000]\n",
      "Testing Error: Accuracy: 80.1%, Avg loss: 0.438880\n",
      "Took 0.26 minutes to run\n",
      "\n",
      "Epoch 6\n",
      "-------------------------------\n",
      "Training loss: 0.474182  [  256/100000]\n",
      "Training loss: 0.443236  [25856/100000]\n",
      "Training loss: 0.343354  [51456/100000]\n",
      "Training loss: 0.350617  [77056/100000]\n",
      "Testing Error: Accuracy: 83.6%, Avg loss: 0.377285\n",
      "Took 0.24 minutes to run\n",
      "Saving model since best loss\n",
      "\n",
      "Epoch 7\n",
      "-------------------------------\n",
      "Training loss: 0.408464  [  256/100000]\n",
      "Training loss: 0.406584  [25856/100000]\n",
      "Training loss: 0.358032  [51456/100000]\n",
      "Training loss: 0.410554  [77056/100000]\n",
      "Testing Error: Accuracy: 83.5%, Avg loss: 0.379183\n",
      "Took 0.24 minutes to run\n",
      "\n",
      "Epoch 8\n",
      "-------------------------------\n",
      "Training loss: 0.419761  [  256/100000]\n",
      "Training loss: 0.391313  [25856/100000]\n",
      "Training loss: 0.454148  [51456/100000]\n",
      "Training loss: 0.375891  [77056/100000]\n",
      "Testing Error: Accuracy: 82.8%, Avg loss: 0.385176\n",
      "Took 0.24 minutes to run\n",
      "\n",
      "Epoch 9\n",
      "-------------------------------\n",
      "Training loss: 0.470708  [  256/100000]\n",
      "Training loss: 0.400093  [25856/100000]\n",
      "Training loss: 0.354434  [51456/100000]\n",
      "Training loss: 0.376824  [77056/100000]\n",
      "Testing Error: Accuracy: 83.6%, Avg loss: 0.376666\n",
      "Took 0.25 minutes to run\n",
      "Saving model since best loss\n",
      "\n",
      "Epoch 10\n",
      "-------------------------------\n",
      "Training loss: 0.377118  [  256/100000]\n",
      "Training loss: 0.453874  [25856/100000]\n",
      "Training loss: 0.397288  [51456/100000]\n",
      "Training loss: 0.378529  [77056/100000]\n",
      "Testing Error: Accuracy: 83.4%, Avg loss: 0.379017\n",
      "Took 0.24 minutes to run\n",
      "\n",
      "Epoch 11\n",
      "-------------------------------\n",
      "Training loss: 0.340774  [  256/100000]\n",
      "Training loss: 0.413562  [25856/100000]\n",
      "Training loss: 0.385242  [51456/100000]\n",
      "Training loss: 0.362916  [77056/100000]\n",
      "Testing Error: Accuracy: 82.8%, Avg loss: 0.382888\n",
      "Took 0.25 minutes to run\n",
      "\n",
      "Epoch 12\n",
      "-------------------------------\n",
      "Training loss: 0.395739  [  256/100000]\n",
      "Training loss: 0.383767  [25856/100000]\n",
      "Training loss: 0.433699  [51456/100000]\n",
      "Training loss: 0.393406  [77056/100000]\n",
      "Testing Error: Accuracy: 83.5%, Avg loss: 0.379411\n",
      "Took 0.25 minutes to run\n",
      "\n",
      "Epoch 13\n",
      "-------------------------------\n",
      "Training loss: 0.404445  [  256/100000]\n",
      "Training loss: 0.382405  [25856/100000]\n",
      "Training loss: 0.400615  [51456/100000]\n",
      "Training loss: 0.410715  [77056/100000]\n",
      "Testing Error: Accuracy: 81.8%, Avg loss: 0.403806\n",
      "Took 0.27 minutes to run\n",
      "\n",
      "Epoch 14\n",
      "-------------------------------\n",
      "Training loss: 0.482988  [  256/100000]\n",
      "Training loss: 0.407196  [25856/100000]\n",
      "Training loss: 0.484986  [51456/100000]\n",
      "Training loss: 0.358043  [77056/100000]\n",
      "Testing Error: Accuracy: 80.6%, Avg loss: 0.431366\n",
      "Took 0.25 minutes to run\n",
      "Early stoping\n",
      "Done!\n"
     ]
    }
   ],
   "source": [
    "#run cycle\n",
    "\n",
    "#Some lists to fill each epoch\n",
    "loss_test=[]\n",
    "loss_train=[]\n",
    "acc_test=[]\n",
    "\n",
    "#For early stopping\n",
    "best_loss=1e6\n",
    "patience_counter=0\n",
    "patience=5\n",
    "\n",
    "epochs = 100\n",
    "for t in range(epochs):\n",
    "    \n",
    "    #Run the training and testing loop\n",
    "    print(f\"\\nEpoch {t+1}\\n-------------------------------\")\n",
    "    starttime=time.time()\n",
    "    train(train_dataloader, model, loss_fn, optimizer, loss_train)\n",
    "    test(test_dataloader, model, loss_fn, loss_test, acc_test)\n",
    "    print(\"Took %.2f minutes to run\"%((time.time()-starttime)/60))\n",
    "\n",
    "    #Early stopping criteria. If the new loss the best save it. Otherwise, after some patience threshold stop the loop\n",
    "    if loss_test[-1]<best_loss:\n",
    "        best_loss=loss_test[-1]\n",
    "        patience_counter=0\n",
    "        print(f\"Saving model since best loss\")\n",
    "        torch.save(model.state_dict(), \"model.pth\")\n",
    "    else:\n",
    "        patience_counter+=1\n",
    "        if patience_counter>=patience:\n",
    "            print(\"Early stoping\")\n",
    "            break\n",
    "print(\"Done!\")"
   ]
  },
  {
   "cell_type": "markdown",
   "metadata": {},
   "source": [
    "You did it! You trained a nice little network with probably pretty reasonable performance. Let's also make a pretty standard validation plot showing the loss fucntion each epoch for the testing and training data"
   ]
  },
  {
   "cell_type": "code",
   "execution_count": 16,
   "metadata": {},
   "outputs": [
    {
     "data": {
      "image/png": "[encoded data removed]",
      "text/plain": [
       "<Figure size 640x480 with 1 Axes>"
      ]
     },
     "metadata": {},
     "output_type": "display_data"
    }
   ],
   "source": [
    "#make some quick plots\n",
    "figure = plt.figure()\n",
    "plt.xlabel(\"Epoch\")\n",
    "plt.ylabel('Loss')\n",
    "plt.plot(loss_train)\n",
    "plt.plot(loss_test)\n",
    "plt.legend(['Train', 'Test'], loc='lower right')\n",
    "plt.savefig(f\"loss.pdf\")"
   ]
  },
  {
   "cell_type": "markdown",
   "metadata": {},
   "source": [
    "## Running a constituent based tagger\n",
    "\n",
    "Now if you want to train a tagger on the constituent leve information, it's as simple as loading this information instead, and the rest of the training process is effectively the same "
   ]
  },
  {
   "cell_type": "markdown",
   "metadata": {},
   "source": [
    "First let's just use all we learned in the \"consitituent_prepocessing.ipynb\" and the dataloader exmple above to make a new dataloader. You can see its pretty much a copy and paste of these 2 codes together"
   ]
  },
  {
   "cell_type": "code",
   "execution_count": 17,
   "metadata": {},
   "outputs": [],
   "source": [
    "class ATLASH5LowLevelDataset(torch.utils.data.Dataset):\n",
    "    #copied from Kevin Grief https://gitlab.cern.ch/atlas/ATLAS-top-tagging-open-data/-/blob/master/utils.py?ref_type=heads#L21\n",
    "    def transform(self,index,max_constits):\n",
    "        # Pull data \n",
    "        pt = np.asarray([self.clus_pt[index][:max_constits]]) #NOTE this is changed w.r.t Kevin\n",
    "        eta = np.asarray([self.clus_eta[index][:max_constits]])\n",
    "        phi = np.asarray([self.clus_phi[index][:max_constits]])\n",
    "        energy = np.asarray([self.clus_E[index][:max_constits]])\n",
    "\n",
    "        # Find location of zero pt entries in each jet. This will be used as a\n",
    "        # mask to re-zero out entries after all preprocessing steps\n",
    "        mask = np.asarray(pt == 0).nonzero()\n",
    "\n",
    "        ########################## Angular Coordinates #############################\n",
    "\n",
    "        # 1. Center hardest constituent in eta/phi plane. First find eta and\n",
    "        # phi shifts to be applied\n",
    "        eta_shift = eta[:,0]\n",
    "        phi_shift = phi[:,0]\n",
    "\n",
    "        # Apply them using np.newaxis\n",
    "        eta -= eta_shift[:,np.newaxis]\n",
    "        phi -= phi_shift[:,np.newaxis]\n",
    "\n",
    "        # Fix discontinuity in phi at +/- pi using np.where\n",
    "        phi = np.where(phi > np.pi, phi - 2*np.pi, phi)\n",
    "        phi = np.where(phi < -np.pi, phi + 2*np.pi, phi)\n",
    "\n",
    "        # 2. Rotate such that 2nd hardest constituent sits on negative phi axis\n",
    "        second_eta = eta[:,1]\n",
    "        second_phi = phi[:,1]\n",
    "        alpha = np.arctan2(second_phi, second_eta) + np.pi/2\n",
    "        eta_rot = (eta * np.cos(alpha[:,np.newaxis]) +\n",
    "                   phi * np.sin(alpha[:,np.newaxis]))\n",
    "        phi_rot = (-eta * np.sin(alpha[:,np.newaxis]) +\n",
    "                   phi * np.cos(alpha[:,np.newaxis]))\n",
    "        eta = eta_rot\n",
    "        phi = phi_rot\n",
    "\n",
    "        # 3. If needed, reflect so 3rd hardest constituent is in positive eta\n",
    "        third_eta = eta[:,2]\n",
    "        parity = np.where(third_eta < 0, -1, 1)\n",
    "        eta = (eta * parity[:,np.newaxis]).astype(np.float32)\n",
    "        # Cast to float32 needed to keep numpy from turning eta to double precision\n",
    "\n",
    "        # 4. Calculate R with pre-processed eta/phi\n",
    "        radius = np.sqrt(eta ** 2 + phi ** 2)\n",
    "\n",
    "        ############################# pT and Energy ################################\n",
    "\n",
    "        # Take the logarithm, ignoring -infs which will be set to zero later\n",
    "        log_pt = np.log(pt)\n",
    "        log_energy = np.log(energy)\n",
    "\n",
    "        # Sum pt and energy in each jet\n",
    "        sum_pt = np.sum(pt, axis=1)\n",
    "        sum_energy = np.sum(energy, axis=1)\n",
    "\n",
    "        # Normalize pt and energy and again take logarithm\n",
    "        lognorm_pt = np.log(pt / sum_pt[:,np.newaxis])\n",
    "        lognorm_energy = np.log(energy / sum_energy[:,np.newaxis])\n",
    "\n",
    "        ########################### Finalize and Return ############################\n",
    "\n",
    "        # Reset all of the original zero entries to zero\n",
    "        eta[mask] = 0\n",
    "        phi[mask] = 0\n",
    "        log_pt[mask] = 0\n",
    "        log_energy[mask] = 0\n",
    "        lognorm_pt[mask] = 0\n",
    "        lognorm_energy[mask] = 0\n",
    "        radius[mask] = 0\n",
    "\n",
    "        # Stack along last axis\n",
    "        features = [eta, phi, log_pt, log_energy,\n",
    "                    lognorm_pt, lognorm_energy, radius]\n",
    "        stacked_data = np.stack(features, axis=-1)\n",
    "\n",
    "        return stacked_data\n",
    "\n",
    "    def __init__(self, file_path, NConstituents=50, return_pt=False):\n",
    "        super(ATLASH5LowLevelDataset, self).__init__()\n",
    "        h5_file = h5py.File(file_path , 'r')\n",
    "        self.data=torch.tensor([])\n",
    "\n",
    "        self.clus_E=h5_file['fjet_clus_E']\n",
    "        self.clus_eta=h5_file['fjet_clus_eta']\n",
    "        self.clus_phi=h5_file['fjet_clus_phi']\n",
    "        self.clus_pt=h5_file['fjet_clus_pt']\n",
    "        self.clus_tast=h5_file['fjet_clus_taste']\n",
    "\n",
    "        self.pt = h5_file['fjet_pt']\n",
    "        self.labels = h5_file['labels']\n",
    "\n",
    "        if \"training_weights\" in h5_file:\n",
    "            self.hasWeights=True\n",
    "            self.weights = h5_file['training_weights']\n",
    "        else:\n",
    "            self.hasWeights=False\n",
    "\n",
    "        self.return_pt = return_pt\n",
    "        self.NConstituents = NConstituents\n",
    "\n",
    "    def __getitem__(self, index):\n",
    "        self.data=torch.squeeze(torch.tensor(self.transform(index,self.NConstituents)),dim=0)\n",
    "        self.data=torch.swapaxes(self.data, 0, 1) #Transformers expect [NBtach, feature, consitituents]\n",
    "\n",
    "        if self.return_pt:\n",
    "            self.data=self.data,torch.tensor([self.pt[index]])\n",
    "\n",
    "        if self.hasWeights:\n",
    "            return self.data,torch.tensor(self.labels[index],dtype=torch.int64),torch.tensor(self.weights[index])\n",
    "        else:\n",
    "            return self.data,torch.tensor(self.labels[index],dtype=torch.int64),torch.tensor(1)\n",
    "\n",
    "    def __len__(self):\n",
    "        return len(self.labels)"
   ]
  },
  {
   "cell_type": "markdown",
   "metadata": {},
   "source": [
    "Now let's load the data (we sneakily snuck in an option to our previous `get_ATLAS_inputs` to use this dataloader as well)"
   ]
  },
  {
   "cell_type": "code",
   "execution_count": 18,
   "metadata": {},
   "outputs": [
    {
     "name": "stdout",
     "output_type": "stream",
     "text": [
      "Using file .//test_nominal_000.h5 for testing\n",
      "Using file .//train_nominal_000.h5 for training\n",
      "Took 9.503e-03 seconds to run data loading\n",
      "\n"
     ]
    },
    {
     "name": "stderr",
     "output_type": "stream",
     "text": [
      "/Users/les/venv/CometaTutorial/lib/python3.7/site-packages/ipykernel_launcher.py:52: RuntimeWarning: divide by zero encountered in log\n",
      "/Users/les/venv/CometaTutorial/lib/python3.7/site-packages/ipykernel_launcher.py:53: RuntimeWarning: divide by zero encountered in log\n",
      "/Users/les/venv/CometaTutorial/lib/python3.7/site-packages/ipykernel_launcher.py:60: RuntimeWarning: divide by zero encountered in log\n",
      "/Users/les/venv/CometaTutorial/lib/python3.7/site-packages/ipykernel_launcher.py:61: RuntimeWarning: divide by zero encountered in log\n"
     ]
    },
    {
     "name": "stdout",
     "output_type": "stream",
     "text": [
      "Shape of x: torch.Size([256, 7, 50]), torch.float32\n",
      "Shape of y: torch.Size([256]) torch.int64\n",
      "Shape of z: torch.Size([256]) torch.float32\n"
     ]
    }
   ],
   "source": [
    "#Get dataloaders,\n",
    "starttime=time.time()\n",
    "train_dataloader,test_dataloader=get_ATLAS_inputs(\"./\",batch_size=2**8,constituents=True)\n",
    "print(\"Took %.3e seconds to run data loading\\n\"%((time.time()-starttime)))\n",
    "\n",
    "#Quick debug on input shape\n",
    "for x, y, z in train_dataloader:\n",
    "    print(f\"Shape of x: {x.shape}, {x.dtype}\")\n",
    "    print(f\"Shape of y: {y.shape} {y.dtype}\")\n",
    "    print(f\"Shape of z: {z.shape} {z.dtype}\")\n",
    "    break"
   ]
  },
  {
   "cell_type": "markdown",
   "metadata": {},
   "source": [
    "So you can see we now load in an input feature which has dimension now \\[Nbatch,Nvariable,NConstituent\\]"
   ]
  },
  {
   "cell_type": "markdown",
   "metadata": {},
   "source": [
    "Now we can also throw it into a simple DNN network as before, but we'll just flatten the \\[Nvariable,NConstituent\\] into one dimension in the network itself"
   ]
  },
  {
   "cell_type": "code",
   "execution_count": 19,
   "metadata": {},
   "outputs": [],
   "source": [
    "class DNNetwork(nn.Module):\n",
    "    def __init__(self, Ninputs,useConstituents=False): #Here we decide to feed the class also an Ninputs variation to make it robust to input list changes\n",
    "        super().__init__()    \n",
    "        self.useConstituents=useConstituents\n",
    "\n",
    "        #Define the actual layers and activations fucntions\n",
    "        if self.useConstituents: self.flatten = nn.Flatten()\n",
    "        self.fc1= nn.Linear(Ninputs, 512)\n",
    "        self.act1=nn.ReLU()\n",
    "        self.fc2= nn.Linear(512, 512)\n",
    "        self.act2=nn.ReLU()\n",
    "        self.fc3= nn.Linear(512, 512)\n",
    "        self.act3=nn.ReLU()\n",
    "        self.fc4= nn.Linear(512, 2)\n",
    "        self.act4=nn.Sigmoid() # We won't apply this since done in loss function\n",
    "    \n",
    "    def forward(self, x):\n",
    "        if self.useConstituents: x = self.flatten(x)\n",
    "        \n",
    "        #Put these layers together in sequence\n",
    "        f1=self.act1(self.fc1(x))\n",
    "        f2=self.act2(self.fc2(f1))\n",
    "        f3=self.act3(self.fc3(f2))\n",
    "        \n",
    "        #We will return just the last layer values, no activations here\n",
    "        logits = self.fc4(f3)\n",
    "        return logits\n"
   ]
  },
  {
   "cell_type": "markdown",
   "metadata": {},
   "source": [
    "And now we have a new model using consituent level information"
   ]
  },
  {
   "cell_type": "code",
   "execution_count": 20,
   "metadata": {
    "scrolled": true
   },
   "outputs": [
    {
     "data": {
      "text/plain": [
       "==================================================================================================================================\n",
       "Layer (type:depth-idx)                   Input Shape     Output Shape    Param #         Param %         Mult-Adds       Trainable\n",
       "==================================================================================================================================\n",
       "DNNetwork                                [256, 7, 50]    [256, 2]        --                   --         --              True\n",
       "├─Flatten: 1-1                           [256, 7, 50]    [256, 350]      --                   --         --              --\n",
       "├─Linear: 1-2                            [256, 350]      [256, 512]      179,712          25.45%         46,006,272      True\n",
       "├─ReLU: 1-3                              [256, 512]      [256, 512]      --                   --         --              --\n",
       "├─Linear: 1-4                            [256, 512]      [256, 512]      262,656          37.20%         67,239,936      True\n",
       "├─ReLU: 1-5                              [256, 512]      [256, 512]      --                   --         --              --\n",
       "├─Linear: 1-6                            [256, 512]      [256, 512]      262,656          37.20%         67,239,936      True\n",
       "├─ReLU: 1-7                              [256, 512]      [256, 512]      --                   --         --              --\n",
       "├─Linear: 1-8                            [256, 512]      [256, 2]        1,026             0.15%         262,656         True\n",
       "==================================================================================================================================\n",
       "Total params: 706,050\n",
       "Trainable params: 706,050\n",
       "Non-trainable params: 0\n",
       "Total mult-adds (M): 180.75\n",
       "==================================================================================================================================\n",
       "Input size (MB): 0.36\n",
       "Forward/backward pass size (MB): 3.15\n",
       "Params size (MB): 2.82\n",
       "Estimated Total Size (MB): 6.33\n",
       "=================================================================================================================================="
      ]
     },
     "execution_count": 20,
     "metadata": {},
     "output_type": "execute_result"
    }
   ],
   "source": [
    "#Now make the model\n",
    "Ndim = torch.flatten(x[0]).size(dim=0) # New dimesnion\n",
    "model = DNNetwork(Ndim,useConstituents=True).to(device)\n",
    "\n",
    "summary(model,input_size=x.size(),col_names=[\"input_size\", \"output_size\", \"num_params\",\"params_percent\",\"mult_adds\",\"trainable\"],col_width=15)"
   ]
  },
  {
   "cell_type": "markdown",
   "metadata": {},
   "source": [
    "You can run the same training/testing loop as before, but note it will now take much longer (longer then we care to wait in this tutorial) to load-in the larger data and train the slightly larger network"
   ]
  },
  {
   "cell_type": "markdown",
   "metadata": {},
   "source": [
    "## Running the cutting-edge ParticleTransformer (optional)\n",
    "\n",
    "With the above example you can also easily load and train one of the current best-performing models [ParticleTransformer](https://arxiv.org/abs/2202.03772)\n",
    "\n",
    "You would need to install also <https://github.com/hqucms/weaver-core/tree/main> which you can do with `pip install weaver`. \n",
    "\n",
    "Then you would just load in this new model instead and the rest is exactly the same!!!"
   ]
  },
  {
   "cell_type": "code",
   "execution_count": 21,
   "metadata": {},
   "outputs": [
    {
     "data": {
      "text/plain": [
       "'\\n##If want to run the particle transformer, `pip install weaver` first\\nfrom weaver.nn.model.ParticleTransformer import ParticleTransformer\\n\\nNdim=x.size(dim=1)\\nmodel = ParticleTransformer(input_dim=Ndim,num_classes=2).to(device)\\n'"
      ]
     },
     "execution_count": 21,
     "metadata": {},
     "output_type": "execute_result"
    }
   ],
   "source": [
    "'''\n",
    "##If want to run the particle transformer, `pip install weaver` first\n",
    "from weaver.nn.model.ParticleTransformer import ParticleTransformer\n",
    "\n",
    "Ndim=x.size(dim=1)\n",
    "model = ParticleTransformer(input_dim=Ndim,num_classes=2).to(device)\n",
    "'''"
   ]
  }
 ],
 "metadata": {
  "kernelspec": {
   "display_name": "CometaTutorial-venv",
   "language": "python",
   "name": "cometatutorial-venv"
  },
  "language_info": {
   "codemirror_mode": {
    "name": "ipython",
    "version": 3
   },
   "file_extension": ".py",
   "mimetype": "text/x-python",
   "name": "python",
   "nbconvert_exporter": "python",
   "pygments_lexer": "ipython3",
   "version": "3.7.3"
  }
 },
 "nbformat": 4,
 "nbformat_minor": 4
}
