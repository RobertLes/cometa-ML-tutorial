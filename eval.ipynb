{
 "cells": [
  {
   "cell_type": "markdown",
   "id": "4179fd3b",
   "metadata": {},
   "source": [
    "# Code summary\n",
    "This notebook will guide a very simple example of how to do some evaluation on a classifier (aka \"jet-tagger\") with pytorch using th ATLAS top-tagging dataset at https://opendata.cern.ch/record/80030.\n",
    "\n",
    "We will assume you are familiar and ran the train.ipynb and previous notebooks already\n",
    "\n",
    "In adititon to the previous single nominal testing dataset, we will also download some of the other variation datasets and check the performance of the tagger with respect to those.\n",
    "\n",
    "Much of the code below is more elaborate then is needed for a simple tutorial, but this is so that it can provide a useful copy-and-paste template for your own projects."
   ]
  },
  {
   "cell_type": "markdown",
   "id": "5b2f3930",
   "metadata": {},
   "source": [
    "## Acessing the data\n",
    "\n",
    "Exactly as before, lets download an input file to inspect"
   ]
  },
  {
   "cell_type": "code",
   "execution_count": 1,
   "id": "8d72549b",
   "metadata": {},
   "outputs": [],
   "source": [
    "import sys,os\n",
    "if not(os.path.isfile(\"test_nominal_000.h5\")):\n",
    "    if sys.platform==\"darwin\": #MAC OSX\n",
    "        !curl https://opendata.cern.ch/record/80030/files/assets/atlas/datascience/CERN-EP-2024-159/test_nominal_000.h5.gz --output test_nominal_000.h5.gz\n",
    "    elif sys.platform == \"linux\" or sys.platform == \"linux2\":\n",
    "        !wget https://opendata.cern.ch/record/80030/files/assets/atlas/datascience/CERN-EP-2024-159/test_nominal_000.h5.gz\n",
    "    !gunzip -f test_nominal_000.h5.gz"
   ]
  },
  {
   "cell_type": "markdown",
   "id": "cd5c6b41",
   "metadata": {},
   "source": [
    "And let's import some packages we will need"
   ]
  },
  {
   "cell_type": "code",
   "execution_count": 2,
   "id": "40d377d9",
   "metadata": {},
   "outputs": [],
   "source": [
    "import torch\n",
    "from torch import nn\n",
    "from torch.utils.data import DataLoader, ConcatDataset\n",
    "from torchinfo import summary\n",
    "\n",
    "from sklearn import metrics\n",
    "import matplotlib.pyplot as plt\n",
    "import h5py\n",
    "import numpy as np"
   ]
  },
  {
   "cell_type": "markdown",
   "id": "0daeda18",
   "metadata": {},
   "source": [
    "# Redefining the pytorch model and dataloader\n",
    "\n",
    "Okay now we will do some copy and paste from the previous notebook on the pytorch dataloader and the neural net model. Outside of jupyter notebook I would probably put these in a seperate .py file and load it in both scripts, as to not have duplicates."
   ]
  },
  {
   "cell_type": "markdown",
   "id": "5ea434e9",
   "metadata": {},
   "source": [
    "First the `Dataset` will be identical to before, but we will define the pre-processing fucntion right away. Also we'll add an extra option to return the jet pt, which wasn't a training feature before"
   ]
  },
  {
   "cell_type": "code",
   "execution_count": 3,
   "id": "5cc7f4c1",
   "metadata": {},
   "outputs": [],
   "source": [
    "class ATLASH5HighLevelDataset(torch.utils.data.Dataset):\n",
    "    def transform(self,data,transform=True):\n",
    "        if transform:\n",
    "            #Calculate some metrics from subsample of total\n",
    "            vals=[]\n",
    "            Njets=np.max([1000,data.len()])\n",
    "            for jet in range(Njets): vals.append(data[jet])\n",
    "            maxval=np.max(vals)\n",
    "            minval=np.min(vals)\n",
    "            return (data-minval)/(maxval-minval)\n",
    "        else:\n",
    "            return data\n",
    "\n",
    "    def __init__(self, file_path, transform=True, return_pt=False):\n",
    "        super(ATLASH5HighLevelDataset, self).__init__()\n",
    "        h5_file = h5py.File(file_path , 'r')\n",
    "        self.data=torch.tensor([])\n",
    "    \n",
    "        self.C2=self.transform(h5_file['fjet_C2'],transform=transform)\n",
    "        self.D2=self.transform(h5_file['fjet_D2'],transform=transform)\n",
    "        self.ECF1=self.transform(h5_file['fjet_ECF1'],transform=transform)\n",
    "        self.ECF2=self.transform(h5_file['fjet_ECF2'],transform=transform)\n",
    "        self.ECF3=self.transform(h5_file['fjet_ECF3'],transform=transform)\n",
    "        self.L2=self.transform(h5_file['fjet_L2'],transform=transform)\n",
    "        self.L3=self.transform(h5_file['fjet_L3'],transform=transform)\n",
    "        self.Qw=self.transform(h5_file['fjet_Qw'],transform=transform)\n",
    "        self.Split12=self.transform(h5_file['fjet_Split12'],transform=transform)\n",
    "        self.Split23=self.transform(h5_file['fjet_Split23'],transform=transform)\n",
    "        self.Tau1_wta=self.transform(h5_file['fjet_Tau1_wta'],transform=transform)\n",
    "        self.Tau2_wta=self.transform(h5_file['fjet_Tau2_wta'],transform=transform)\n",
    "        self.Tau3_wta=self.transform(h5_file['fjet_Tau3_wta'],transform=transform)\n",
    "        self.Tau4_wta=self.transform(h5_file['fjet_Tau4_wta'],transform=transform)\n",
    "        self.ThrustMaj=self.transform(h5_file['fjet_ThrustMaj'],transform=transform)\n",
    "        self.m=self.transform(h5_file['fjet_m'],transform=transform)\n",
    "    \n",
    "        self.pt = h5_file['fjet_pt']\n",
    "        self.labels = h5_file['labels']\n",
    "        if \"training_weights\" in h5_file:\n",
    "            self.hasWeights=True\n",
    "            self.weights = h5_file['training_weights']\n",
    "        else:\n",
    "            self.hasWeights=False\n",
    "    \n",
    "        self.return_pt = return_pt\n",
    "    \n",
    "    def __getitem__(self, index):\n",
    "        self.data=torch.tensor([self.D2[index],self.C2[index],self.ECF1[index],self.ECF2[index],self.ECF3[index],self.L2[index],self.L3[index],self.Qw[index],self.Split12[index],self.Split23[index],self.Tau1_wta[index],self.Tau2_wta[index],self.Tau3_wta[index],self.Tau4_wta[index],self.ThrustMaj[index],self.m[index]])\n",
    "    \n",
    "        #new extra return appended to usual inputs\n",
    "        if self.return_pt:\n",
    "            self.data=self.data,torch.tensor([self.pt[index]])\n",
    "    \n",
    "        if self.hasWeights:\n",
    "            return self.data,torch.tensor(self.labels[index],dtype=torch.int64),torch.tensor(self.weights[index])\n",
    "        else:\n",
    "            return self.data,torch.tensor(self.labels[index],dtype=torch.int64),torch.tensor(1)\n",
    "    \n",
    "    def __len__(self):\n",
    "        return len(self.labels)"
   ]
  },
  {
   "cell_type": "markdown",
   "id": "45ddbe66",
   "metadata": {},
   "source": [
    "And now let's get the single testing file result via a `DataLoader` again, since we did all the hard work there already"
   ]
  },
  {
   "cell_type": "code",
   "execution_count": 4,
   "id": "2b7a14c4",
   "metadata": {},
   "outputs": [],
   "source": [
    "#Load the dataset into an object\n",
    "testing_data=ATLASH5HighLevelDataset(\"./test_nominal_000.h5\",transform=True, return_pt=True)\n",
    "\n",
    "#Then give it to the dataloader, here we say to shuffle the data and also feed us batches of 1 jets every time we loop\n",
    "test_dataloader = DataLoader(testing_data, batch_size=1, shuffle=True)"
   ]
  },
  {
   "cell_type": "markdown",
   "id": "f61bb39a",
   "metadata": {},
   "source": [
    "Similarly we'll use the exact same model class"
   ]
  },
  {
   "cell_type": "code",
   "execution_count": 5,
   "id": "1600d606",
   "metadata": {},
   "outputs": [],
   "source": [
    "class DNNetwork(nn.Module):\n",
    "    def __init__(self,Ninputs,useConstituents=False):\n",
    "        super().__init__()\n",
    "        self.useConstituents=useConstituents\n",
    "    \n",
    "        if self.useConstituents: self.flatten = nn.Flatten()\n",
    "        #self.norm=nn.BatchNorm1d(Ninputs)\n",
    "        self.fc1= nn.Linear(Ninputs, 512)\n",
    "        self.act1=nn.ReLU()\n",
    "        self.fc2= nn.Linear(512, 512)\n",
    "        self.act2=nn.ReLU()\n",
    "        self.fc3= nn.Linear(512, 512)\n",
    "        self.act3=nn.ReLU()\n",
    "        self.fc4= nn.Linear(512, 2)\n",
    "    \n",
    "    def forward(self, x):\n",
    "        if self.useConstituents: x = self.flatten(x)\n",
    "        #x=self.norm(x)\n",
    "        f1=self.act1(self.fc1(x))\n",
    "        f2=self.act2(self.fc2(f1))\n",
    "        f3=self.act3(self.fc3(f2))\n",
    "        logits = self.fc4(f3)\n",
    "        return logits"
   ]
  },
  {
   "cell_type": "markdown",
   "id": "0d9a76f0",
   "metadata": {},
   "source": [
    "Now we well define the model object again but load all the weight information from our previous training"
   ]
  },
  {
   "cell_type": "code",
   "execution_count": 6,
   "id": "96338556",
   "metadata": {},
   "outputs": [
    {
     "name": "stdout",
     "output_type": "stream",
     "text": [
      "DNNetwork(\n",
      "  (fc1): Linear(in_features=16, out_features=512, bias=True)\n",
      "  (act1): ReLU()\n",
      "  (fc2): Linear(in_features=512, out_features=512, bias=True)\n",
      "  (act2): ReLU()\n",
      "  (fc3): Linear(in_features=512, out_features=512, bias=True)\n",
      "  (act3): ReLU()\n",
      "  (fc4): Linear(in_features=512, out_features=2, bias=True)\n",
      ")\n"
     ]
    }
   ],
   "source": [
    "Ndim = len(test_dataloader.dataset[0][0][0])\n",
    "device = \"cpu\"\n",
    "model = DNNetwork(Ndim).to(device)\n",
    "model.load_state_dict(torch.load(\"model.pth\"))\n",
    "print(model)"
   ]
  },
  {
   "cell_type": "markdown",
   "id": "21098fe8",
   "metadata": {},
   "source": [
    "## Evaluation of tagger performance\n",
    "\n",
    "Now to the new part. Let's evaluate some usual machine-learning classification metrics on our network performance"
   ]
  },
  {
   "cell_type": "markdown",
   "id": "037d320a",
   "metadata": {},
   "source": [
    "First let's define a function to return the relevant infomation for the whole dataset in a numpy array. This follows the usual pytorch evaluation of looping over the batches and calculating the model prediction. Here we also will apply the sigmoid term though which isn't part of the network final layer in our example"
   ]
  },
  {
   "cell_type": "code",
   "execution_count": 7,
   "id": "76da9f18",
   "metadata": {},
   "outputs": [],
   "source": [
    "#Load information into numpy arrays\n",
    "def load_score(dataloader):\n",
    "    ys=np.array([])\n",
    "    preds_raw=np.empty((0,2))\n",
    "    weights=np.array([])\n",
    "    pts=np.array([])\n",
    "    with torch.no_grad(): #Always good habit to include this outside of training\n",
    "        for (X, pt), y, w in dataloader: #Note we are returning the pt here too as an extra variable\n",
    "            \n",
    "            #Get prediction\n",
    "            pred=model(X)\n",
    "            pred=torch.sigmoid(pred)\n",
    "\n",
    "            #append info\n",
    "            preds_raw=np.concatenate([preds_raw,pred.numpy()])\n",
    "            ys=np.concatenate([ys,y.numpy().flatten()])\n",
    "            pts=np.concatenate([pts,pt.numpy().flatten()])\n",
    "            weights=np.concatenate([weights,pt.numpy().flatten()])\n",
    "    return preds_raw,ys,weights,pts"
   ]
  },
  {
   "cell_type": "markdown",
   "id": "6b2a86a8",
   "metadata": {},
   "source": [
    "Okay now let's get the values"
   ]
  },
  {
   "cell_type": "code",
   "execution_count": 8,
   "id": "8ec6b996",
   "metadata": {},
   "outputs": [],
   "source": [
    "preds_raw,ys,weights,pts=load_score(test_dataloader)"
   ]
  },
  {
   "cell_type": "markdown",
   "id": "8e163202",
   "metadata": {},
   "source": [
    "Now since we have defined our problem as having 2 output notes, we'll define a decision rule as the log ratio of probabilities. This condenses the problem back to a 1 dimensional one.\n",
    "This is a common approach in various machine learning and statistics literature, but shouldn't be treated as a rule"
   ]
  },
  {
   "cell_type": "code",
   "execution_count": 9,
   "id": "4ef23d4e",
   "metadata": {},
   "outputs": [],
   "source": [
    "#Decision rule\n",
    "def decision_rule(raw_preds):\n",
    "    return np.log(raw_preds[:,1]/raw_preds[:,0])\n",
    "preds=decision_rule(preds_raw)"
   ]
  },
  {
   "cell_type": "markdown",
   "id": "eee7bea9",
   "metadata": {},
   "source": [
    "Let's make a quick plot of it for the signal and background"
   ]
  },
  {
   "cell_type": "code",
   "execution_count": 10,
   "id": "0d51193f",
   "metadata": {},
   "outputs": [
    {
     "name": "stderr",
     "output_type": "stream",
     "text": [
      "/Users/les/venv/CometaTutorial/lib/python3.7/site-packages/ipykernel_launcher.py:10: RuntimeWarning: divide by zero encountered in log\n",
      "  # Remove the CWD from sys.path while we load stuff.\n",
      "/Users/les/venv/CometaTutorial/lib/python3.7/site-packages/ipykernel_launcher.py:10: RuntimeWarning: invalid value encountered in multiply\n",
      "  # Remove the CWD from sys.path while we load stuff.\n"
     ]
    },
    {
     "name": "stdout",
     "output_type": "stream",
     "text": [
      "JSD=16079.323953483246\n"
     ]
    },
    {
     "data": {
      "image/png": "[encoded data removed]",
      "text/plain": [
       "<Figure size 640x480 with 1 Axes>"
      ]
     },
     "metadata": {},
     "output_type": "display_data"
    }
   ],
   "source": [
    "xmin=np.min(preds)\n",
    "xmax=np.max(preds)\n",
    "bkgprob,*_=plt.hist(preds[ys==0],bins=10,histtype=\"step\",range=[xmin,xmax],label=\"Background\")\n",
    "sigprob,*_=plt.hist(preds[ys==1],bins=10,histtype=\"step\",range=[xmin,xmax],label=\"Signal\")\n",
    "plt.legend()\n",
    "plt.yscale(\"log\")\n",
    "\n",
    "#Calculate JSD\n",
    "Mprob=0.5*(sigprob+bkgprob)\n",
    "JSD=0.5*np.nansum(sigprob*np.log(sigprob/Mprob))+0.5*np.nansum(bkgprob*np.log(bkgprob/Mprob)) #Jensen Shannon Divergence\n",
    "print(f\"JSD={JSD}\")"
   ]
  },
  {
   "cell_type": "markdown",
   "id": "edcda45a",
   "metadata": {},
   "source": [
    "So with a decision rule we can make everyone's favorite plot: the ROC curve. This is pretty easy via the `scikit-learn` package. We'll use the ATLAS convention of showing the signal efficiency vs the background rejection (aka one over the background efficiency)"
   ]
  },
  {
   "cell_type": "code",
   "execution_count": 12,
   "id": "4beb211a",
   "metadata": {},
   "outputs": [
    {
     "name": "stderr",
     "output_type": "stream",
     "text": [
      "/Users/les/venv/CometaTutorial/lib/python3.7/site-packages/ipykernel_launcher.py:6: RuntimeWarning: divide by zero encountered in true_divide\n",
      "  \n"
     ]
    },
    {
     "name": "stdout",
     "output_type": "stream",
     "text": [
      "[ 3.13058633  2.13058633  2.06849859 ... -3.28506153 -3.29515587\n",
      " -5.41061127]\n"
     ]
    },
    {
     "data": {
      "image/png": "[encoded data removed]",
      "text/plain": [
       "<Figure size 640x480 with 1 Axes>"
      ]
     },
     "metadata": {},
     "output_type": "display_data"
    }
   ],
   "source": [
    "#make ROC curve\n",
    "fpr, tpr, thresholds = metrics.roc_curve(ys, preds, sample_weight=weights) # return false and true positive rates, and the probed decsion rule threhsolds\n",
    "fpr, tpr, thresholds = metrics.roc_curve(ys, preds) # return false and true positive rates, and the probed decsion rule threhsolds\n",
    "\n",
    "fig, ax = plt.subplots()\n",
    "ax.plot(tpr,1/fpr)\n",
    "ax.set_yscale('log')\n",
    "ax.set_xlim([0.1, 1.0])\n",
    "ax.set_xlabel(\"Signal efficiency\")\n",
    "ax.set_ylabel(\"1/(Background rejection)\")\n",
    "fig.savefig(\"ROC.pdf\") "
   ]
  },
  {
   "cell_type": "markdown",
   "id": "aa6d789f",
   "metadata": {},
   "source": [
    "We can also make a confusion matrix based on the highest node prediction (or some other decision rule). This is less useful for binary classification, but more interesting for multi-classification problems."
   ]
  },
  {
   "cell_type": "code",
   "execution_count": 13,
   "id": "130dcc47",
   "metadata": {},
   "outputs": [
    {
     "data": {
      "image/png": "[encoded data removed]",
      "text/plain": [
       "<Figure size 640x480 with 2 Axes>"
      ]
     },
     "metadata": {},
     "output_type": "display_data"
    }
   ],
   "source": [
    "#make confusion matrix\n",
    "disp=metrics.ConfusionMatrixDisplay.from_predictions(ys, np.argmax(preds_raw,axis=1),normalize=\"true\",cmap=\"Blues\",display_labels=[\"quark\",\"top\"])\n",
    "plt.savefig(\"confusion.pdf\") "
   ]
  },
  {
   "cell_type": "markdown",
   "id": "d7c4471e",
   "metadata": {},
   "source": [
    "## ATLAS Evaluation of tagger performance\n",
    "\n",
    "Besides some usual machine-learning metrics, like the ROC curve, let's perform some evaluation metrics as usually shown in ATLAS performance plots. In particular the common one is the background rejection as a function of jet pt at a fixed signal working point of 50\\%"
   ]
  },
  {
   "cell_type": "markdown",
   "id": "11c59ecf",
   "metadata": {},
   "source": [
    "So first let's define a cut threshold so the signal efficiency is at a fixed perfentage (aka a working point)"
   ]
  },
  {
   "cell_type": "code",
   "execution_count": 14,
   "id": "e1f7521e",
   "metadata": {},
   "outputs": [
    {
     "name": "stdout",
     "output_type": "stream",
     "text": [
      "50% decision threshold of 0.7335831575444 gives rejection of 29.4\n"
     ]
    }
   ],
   "source": [
    "#Find 50% working point\n",
    "index_of_wp=np.argmax(tpr>0.5)\n",
    "wp50=thresholds[index_of_wp]\n",
    "rej50=fpr[index_of_wp]\n",
    "print(f\"50% decision threshold of {wp50} gives rejection of {1/rej50:.1f}\")"
   ]
  },
  {
   "cell_type": "markdown",
   "id": "78f4b11c",
   "metadata": {},
   "source": [
    "So that was simple, but actually is inclusive on jet-pt. Our input signal jet pt spectrum wasn't completely flat so the perfromance of the tagger isn't flat in this variable. We can pseudo-flatten it out by defining a seperate working point across pt-bins"
   ]
  },
  {
   "cell_type": "code",
   "execution_count": 15,
   "id": "d7dfda85",
   "metadata": {},
   "outputs": [
    {
     "name": "stdout",
     "output_type": "stream",
     "text": [
      "For pt bin 0 the 50% decision threshold of 0.9955048973412085 gives rejection of 73.1\n",
      "For pt bin 1 the 50% decision threshold of 0.9551010529669547 gives rejection of 58.5\n",
      "For pt bin 2 the 50% decision threshold of 0.9059069803773236 gives rejection of 51.1\n",
      "For pt bin 3 the 50% decision threshold of 0.8621436373258144 gives rejection of 52.8\n",
      "For pt bin 4 the 50% decision threshold of 0.824237183570265 gives rejection of 36.1\n",
      "For pt bin 5 the 50% decision threshold of 0.7976026558266986 gives rejection of 34.3\n",
      "For pt bin 6 the 50% decision threshold of 0.8130371266815283 gives rejection of 42.5\n",
      "For pt bin 7 the 50% decision threshold of 0.7962539883230344 gives rejection of 25.3\n",
      "For pt bin 8 the 50% decision threshold of 0.8077278454425956 gives rejection of 42.6\n",
      "For pt bin 9 the 50% decision threshold of 0.8540019260585631 gives rejection of 39.1\n"
     ]
    }
   ],
   "source": [
    "#Pt bins we'll look at\n",
    "Nbins=10\n",
    "bins=np.linspace(0.3e6,1.5e6,Nbins+1,endpoint=True)\n",
    "\n",
    "#Loop over the bins\n",
    "wp50_values=[]\n",
    "\n",
    "for binx in range(Nbins):\n",
    "    #Select only the jets in the pt bin\n",
    "    mask = (pts>bins[binx]) & (pts<bins[binx+1])\n",
    "        \n",
    "    #Get the true positive rate from ROC (can do other ways if you want)\n",
    "    fpr, tpr, thresholds = metrics.roc_curve(ys[mask], preds[mask], sample_weight=weights[mask])\n",
    "    \n",
    "    #Get the threshold\n",
    "    index_of_wp=np.argmax(tpr>0.5)\n",
    "    wp50=thresholds[index_of_wp]\n",
    "    rej50=fpr[index_of_wp]\n",
    "    print(f\"For pt bin {binx} the 50% decision threshold of {wp50} gives rejection of {1/rej50:.1f}\")\n",
    "    wp50_values.append(wp50)\n"
   ]
  },
  {
   "cell_type": "markdown",
   "id": "211daac9",
   "metadata": {},
   "source": [
    "Now as usual let's make a quick little script we'll call multiple times to calculate the rejection of an input dataset. It's just the ratio of all jets to those passing the requirement, across the pt bins"
   ]
  },
  {
   "cell_type": "code",
   "execution_count": 16,
   "id": "c8717a78",
   "metadata": {},
   "outputs": [],
   "source": [
    "# make rejection plot at working point\n",
    "def rejection_hist(ys,preds,pts,bins,wp):\n",
    "    #Let's just look at background labeled samples\n",
    "    bkg_indices=np.argwhere(ys==0)\n",
    "    bkg_pts=pts[bkg_indices]\n",
    "    bkg_preds=preds[bkg_indices]\n",
    "    \n",
    "    #Arrays to fille\n",
    "    N_accepted=np.zeros(len(bins)-1)\n",
    "    N_all=np.zeros(len(bins)-1)\n",
    "    for ii in range(len(bkg_indices)):\n",
    "        \n",
    "        #find bin\n",
    "        binx=np.argmax(bins>bkg_pts[ii])\n",
    "        if binx>len(N_all)-1: continue\n",
    "\n",
    "        #Fill the arrays\n",
    "        N_all[binx]+=1\n",
    "        if bkg_preds[ii]>wp[binx]: N_accepted[binx]+=1\n",
    "            \n",
    "    return np.nan_to_num(N_all/N_accepted)"
   ]
  },
  {
   "cell_type": "markdown",
   "id": "a1abdf9c",
   "metadata": {},
   "source": [
    "And let's plot it"
   ]
  },
  {
   "cell_type": "code",
   "execution_count": 17,
   "id": "e7b2d14c",
   "metadata": {},
   "outputs": [
    {
     "data": {
      "image/png": "[encoded data removed]",
      "text/plain": [
       "<Figure size 640x480 with 1 Axes>"
      ]
     },
     "metadata": {},
     "output_type": "display_data"
    }
   ],
   "source": [
    "#make the hist\n",
    "nom_hist=rejection_hist(ys,preds,pts,bins,wp50_values)\n",
    "\n",
    "#plot it\n",
    "fig, ax = plt.subplots()\n",
    "ax.errorbar((bins[1:]+bins[:-1])/2, nom_hist, xerr=(bins[1:]-bins[:-1])/2,fmt='o')\n",
    "fig.savefig(f\"rejection_pt.pdf\")"
   ]
  },
  {
   "cell_type": "markdown",
   "id": "dbca1e4d",
   "metadata": {},
   "source": [
    "Okay so there is some interesting physics probably in here, but we only ran with 100k input jets to train on. Let's not look into it too much closer"
   ]
  },
  {
   "cell_type": "markdown",
   "id": "558c0865",
   "metadata": {},
   "source": [
    "## Testing on alternative samples\n",
    "\n",
    "Now let's do the really novel part of this open data set and test on some alternative input samples"
   ]
  },
  {
   "cell_type": "markdown",
   "id": "8e8b332b",
   "metadata": {},
   "source": [
    "This one is an alternative background sample using Herwig angular ordered showers"
   ]
  },
  {
   "cell_type": "code",
   "execution_count": 18,
   "id": "90fede7e",
   "metadata": {},
   "outputs": [],
   "source": [
    "if not(os.path.isfile(\"angular_000.h5\")):\n",
    "    if sys.platform==\"darwin\": #MAC OSX\n",
    "        !curl https://opendata.cern.ch/record/80030/files/assets/atlas/datascience/CERN-EP-2024-159/angular_000.h5.gz --output angular_000.h5.gz\n",
    "    elif sys.platform == \"linux\" or sys.platform == \"linux2\":\n",
    "        !wget https://opendata.cern.ch/record/80030/files/assets/atlas/datascience/CERN-EP-2024-159/angular_000.h5.gz\n",
    "    !gunzip -f angular_000.h5.gz"
   ]
  },
  {
   "cell_type": "markdown",
   "id": "7cb01556",
   "metadata": {},
   "source": [
    "Let's throw it into the `DataLoader` and load all the info!\n",
    "\n",
    "Aren't you glad we spent time on this earlier, it's almost trivial to load in new data now"
   ]
  },
  {
   "cell_type": "code",
   "execution_count": 19,
   "id": "4a222536",
   "metadata": {},
   "outputs": [],
   "source": [
    "altbkg_data=ATLASH5HighLevelDataset(\"angular_000.h5\",return_pt=True)\n",
    "altbkg_dataloader = DataLoader(altbkg_data, batch_size=2**8, shuffle=True)\n",
    "\n",
    "altbkg_preds_raw,altbkg_ys,altbkg_weights,altbkg_pts=load_score(altbkg_dataloader)\n",
    "altbkg_preds=decision_rule(altbkg_preds_raw)"
   ]
  },
  {
   "cell_type": "markdown",
   "id": "e5e1b224",
   "metadata": {},
   "source": [
    "And now let's make the rejection plot for it and compare to the nominal"
   ]
  },
  {
   "cell_type": "code",
   "execution_count": 20,
   "id": "f1a5a9fd",
   "metadata": {},
   "outputs": [
    {
     "data": {
      "image/png": "[encoded data removed]",
      "text/plain": [
       "<Figure size 640x480 with 1 Axes>"
      ]
     },
     "metadata": {},
     "output_type": "display_data"
    }
   ],
   "source": [
    "altbkg_hist=rejection_hist(altbkg_ys,altbkg_preds,altbkg_pts,bins,wp50_values)\n",
    "\n",
    "fig, ax = plt.subplots()\n",
    "ax.errorbar((bins[1:]+bins[:-1])/2, nom_hist, xerr=(bins[1:]-bins[:-1])/2,fmt='o',label=\"Nominal\")\n",
    "ax.errorbar((bins[1:]+bins[:-1])/2, altbkg_hist, xerr=(bins[1:]-bins[:-1])/2,fmt='o',label=\"Alt Background\")\n",
    "plt.legend()\n",
    "fig.savefig(f\"rejection_comparison_pt.pdf\")"
   ]
  },
  {
   "cell_type": "markdown",
   "id": "353f7836",
   "metadata": {},
   "source": [
    "Let's start by loading up an alternative signal model. This one is a SM ttbar sample using a Herwig shower (as opposed to Pythia)"
   ]
  },
  {
   "cell_type": "code",
   "execution_count": 21,
   "id": "615007f3",
   "metadata": {},
   "outputs": [],
   "source": [
    "if not(os.path.isfile(\"ttbar_herwig_000.h5\")):\n",
    "    if sys.platform==\"darwin\": #MAC OSX\n",
    "        !curl https://opendata.cern.ch/record/80030/files/assets/atlas/datascience/CERN-EP-2024-159/ttbar_herwig_000.h5.gz --output ttbar_herwig_000.h5.gz\n",
    "    elif sys.platform == \"linux\" or sys.platform == \"linux2\":\n",
    "        !wget https://opendata.cern.ch/record/80030/files/assets/atlas/datascience/CERN-EP-2024-159/ttbar_herwig_000.h5.gz \n",
    "    !gunzip -f ttbar_herwig_000.h5.gz"
   ]
  },
  {
   "cell_type": "code",
   "execution_count": 22,
   "id": "44dcfd10",
   "metadata": {},
   "outputs": [],
   "source": [
    "altsig_data=ATLASH5HighLevelDataset(\"ttbar_herwig_000.h5\",return_pt=True)\n",
    "altsig_dataloader = DataLoader(altsig_data, batch_size=2**8, shuffle=True)\n",
    "\n",
    "altsig_preds_raw,altsig_ys,altsig_weights,altsig_pts=load_score(altsig_dataloader)\n",
    "altsig_preds=decision_rule(altsig_preds_raw)"
   ]
  },
  {
   "cell_type": "markdown",
   "id": "0cca4626",
   "metadata": {},
   "source": [
    "Now we usually show the signal uncertainity in a weird way so that its more comparable to the background uncertainity. We will instead find the new working point cut with the new alternative signal model, and evaluate it's performance on the nominal background sample"
   ]
  },
  {
   "cell_type": "code",
   "execution_count": 23,
   "id": "ad068ad7",
   "metadata": {
    "scrolled": false
   },
   "outputs": [
    {
     "name": "stdout",
     "output_type": "stream",
     "text": [
      "For pt bin 0 the alt 50% decision threshold of 0.5481651005029811\n",
      "For pt bin 1 the alt 50% decision threshold of 0.4998140345154489\n",
      "For pt bin 2 the alt 50% decision threshold of 0.4490500891573115\n",
      "For pt bin 3 the alt 50% decision threshold of 0.4075234517781139\n",
      "For pt bin 4 the alt 50% decision threshold of 0.35857235657918984\n",
      "For pt bin 5 the alt 50% decision threshold of 0.32679202353313563\n",
      "For pt bin 6 the alt 50% decision threshold of 0.3035644720496018\n",
      "For pt bin 7 the alt 50% decision threshold of 0.27215852375341476\n",
      "For pt bin 8 the alt 50% decision threshold of 0.27549692631885225\n",
      "For pt bin 9 the alt 50% decision threshold of 0.27725050373365234\n"
     ]
    }
   ],
   "source": [
    "#Loop over the bins\n",
    "wp50_altvalues=[]\n",
    "for binx in range(Nbins):\n",
    "    #Select only the jets in the pt bin\n",
    "    mask = (altsig_pts>bins[binx]) & (altsig_pts<bins[binx+1])\n",
    "\n",
    "    #Find the point where only 50% of the jets kept\n",
    "    preds_in_bin=altsig_preds[mask]  \n",
    "    predmin=np.min(preds_in_bin)\n",
    "    predmax=np.max(preds_in_bin)\n",
    "    for cut in np.linspace(predmin,predmax,1000):\n",
    "        eff=(preds_in_bin>cut).sum()/len(preds_in_bin)\n",
    "        if eff<0.5: break\n",
    "    \n",
    "    wp50_altvalues.append(eff)\n",
    "    print(f\"For pt bin {binx} the alt 50% decision threshold of {cut}\")\n",
    "\n",
    "    #plt.hist(preds_in_bin,bins=10,histtype=\"step\",range=[predmin,predmax])\n",
    "    #plt.yscale(\"log\")"
   ]
  },
  {
   "cell_type": "code",
   "execution_count": 24,
   "id": "c421b0f1",
   "metadata": {},
   "outputs": [
    {
     "data": {
      "image/png": "[encoded data removed]",
      "text/plain": [
       "<Figure size 640x480 with 1 Axes>"
      ]
     },
     "metadata": {},
     "output_type": "display_data"
    }
   ],
   "source": [
    "altsig_hist=rejection_hist(ys,preds,pts,bins,wp50_altvalues)\n",
    "\n",
    "fig, ax = plt.subplots()\n",
    "ax.errorbar((bins[1:]+bins[:-1])/2, nom_hist, xerr=(bins[1:]-bins[:-1])/2,fmt='o',label=\"Nominal\")\n",
    "ax.errorbar((bins[1:]+bins[:-1])/2, altbkg_hist, xerr=(bins[1:]-bins[:-1])/2,fmt='o',label=\"Alt Background\")\n",
    "ax.errorbar((bins[1:]+bins[:-1])/2, altsig_hist, xerr=(bins[1:]-bins[:-1])/2,fmt='o',label=\"Alt Signal\")\n",
    "plt.legend()\n",
    "fig.savefig(f\"rejection_comparison_pt.pdf\")"
   ]
  },
  {
   "cell_type": "markdown",
   "id": "298f5f2e",
   "metadata": {},
   "source": [
    "You can see this one ends up being a huge effect, our tagger seems to have more difficult extrapolating across signal samples, or our fundamental uncertainity on signal modelling uncertainity is larger"
   ]
  }
 ],
 "metadata": {
  "kernelspec": {
   "display_name": "CometaTutorial-venv",
   "language": "python",
   "name": "cometatutorial-venv"
  },
  "language_info": {
   "codemirror_mode": {
    "name": "ipython",
    "version": 3
   },
   "file_extension": ".py",
   "mimetype": "text/x-python",
   "name": "python",
   "nbconvert_exporter": "python",
   "pygments_lexer": "ipython3",
   "version": "3.7.3"
  }
 },
 "nbformat": 4,
 "nbformat_minor": 5
}
