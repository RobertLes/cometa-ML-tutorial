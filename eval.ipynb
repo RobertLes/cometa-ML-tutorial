{
 "cells": [
  {
   "cell_type": "code",
   "execution_count": 1,
   "id": "8d72549b",
   "metadata": {},
   "outputs": [],
   "source": [
    "import sys,os\n",
    "if not(os.path.isfile(\"train_nominal_000.h5\")):\n",
    "    if sys.platform==\"darwin\": #MAC OSX\n",
    "        !curl https://opendata.cern.ch/record/80030/files/assets/atlas/datascience/CERN-EP-2024-159/train_nominal_000.h5.gz --output train_nominal_000.h5.gz\n",
    "        !curl https://opendata.cern.ch/record/80030/files/assets/atlas/datascience/CERN-EP-2024-159/test_nominal_000.h5.gz --output test_nominal_000.h5.gz\n",
    "    elif sys.platform == \"linux\" or sys.platform == \"linux2\":\n",
    "        !wget https://opendata.cern.ch/record/80030/files/assets/atlas/datascience/CERN-EP-2024-159/train_nominal_000.h5.gz\n",
    "        !wget https://opendata.cern.ch/record/80030/files/assets/atlas/datascience/CERN-EP-2024-159/test_nominal_000.h5.gz\n",
    "    !gunzip -f train_nominal_000.h5.gz\n",
    "    !gunzip -f test_nominal_000.h5.gz"
   ]
  },
  {
   "cell_type": "code",
   "execution_count": 2,
   "id": "40d377d9",
   "metadata": {},
   "outputs": [],
   "source": [
    "import torch\n",
    "from torch import nn\n",
    "from torch.utils.data import DataLoader, ConcatDataset\n",
    "from torchinfo import summary\n",
    "\n",
    "from sklearn import metrics\n",
    "import matplotlib.pyplot as plt\n",
    "import h5py\n",
    "import numpy as np"
   ]
  },
  {
   "cell_type": "code",
   "execution_count": 3,
   "id": "5cc7f4c1",
   "metadata": {},
   "outputs": [],
   "source": [
    "class ATLASH5HighLevelDataset(torch.utils.data.Dataset):\n",
    "    def transform(self,data,transform=True):\n",
    "        if transform:\n",
    "            #Calculate some metrics from subsample of total\n",
    "            vals=[]\n",
    "            Njets=np.max([1000,data.len()])\n",
    "            for jet in range(Njets): vals.append(data[jet])\n",
    "            maxval=np.max(vals)\n",
    "            minval=np.min(vals)\n",
    "            return (data-minval)/(maxval-minval)\n",
    "        else:\n",
    "            return data\n",
    "\n",
    "    def __init__(self, file_path, transform=True, return_pt=False):\n",
    "        super(ATLASH5HighLevelDataset, self).__init__()\n",
    "        h5_file = h5py.File(file_path , 'r')\n",
    "        self.data=torch.tensor([])\n",
    "    \n",
    "        self.C2=self.transform(h5_file['fjet_C2'],transform=transform)\n",
    "        self.D2=self.transform(h5_file['fjet_D2'],transform=transform)\n",
    "        self.ECF1=self.transform(h5_file['fjet_ECF1'],transform=transform)\n",
    "        self.ECF2=self.transform(h5_file['fjet_ECF2'],transform=transform)\n",
    "        self.ECF3=self.transform(h5_file['fjet_ECF3'],transform=transform)\n",
    "        self.L2=self.transform(h5_file['fjet_L2'],transform=transform)\n",
    "        self.L3=self.transform(h5_file['fjet_L3'],transform=transform)\n",
    "        self.Qw=self.transform(h5_file['fjet_Qw'],transform=transform)\n",
    "        self.Split12=self.transform(h5_file['fjet_Split12'],transform=transform)\n",
    "        self.Split23=self.transform(h5_file['fjet_Split23'],transform=transform)\n",
    "        self.Tau1_wta=self.transform(h5_file['fjet_Tau1_wta'],transform=transform)\n",
    "        self.Tau2_wta=self.transform(h5_file['fjet_Tau2_wta'],transform=transform)\n",
    "        self.Tau3_wta=self.transform(h5_file['fjet_Tau3_wta'],transform=transform)\n",
    "        self.Tau4_wta=self.transform(h5_file['fjet_Tau4_wta'],transform=transform)\n",
    "        self.ThrustMaj=self.transform(h5_file['fjet_ThrustMaj'],transform=transform)\n",
    "        self.m=self.transform(h5_file['fjet_m'],transform=transform)\n",
    "    \n",
    "        self.pt = h5_file['fjet_pt']\n",
    "        self.labels = h5_file['labels']\n",
    "        if \"training_weights\" in h5_file:\n",
    "            self.hasWeights=True\n",
    "            self.weights = h5_file['training_weights']\n",
    "        else:\n",
    "            self.hasWeights=False\n",
    "    \n",
    "        self.return_pt = return_pt\n",
    "    \n",
    "    def __getitem__(self, index):\n",
    "        self.data=torch.tensor([self.D2[index],self.C2[index],self.ECF1[index],self.ECF2[index],self.ECF3[index],self.L2[index],self.L3[index],self.Qw[index],self.Split12[index],self.Split23[index],self.Tau1_wta[index],self.Tau2_wta[index],self.Tau3_wta[index],self.Tau4_wta[index],self.ThrustMaj[index],self.m[index]])\n",
    "    \n",
    "        if self.return_pt:\n",
    "            self.data=self.data,torch.tensor([self.pt[index]])\n",
    "    \n",
    "        if self.hasWeights:\n",
    "            return self.data,torch.tensor(self.labels[index],dtype=torch.int64),torch.tensor(self.weights[index])\n",
    "        else:\n",
    "            return self.data,torch.tensor(self.labels[index],dtype=torch.int64),torch.tensor(1)\n",
    "    \n",
    "    def __len__(self):\n",
    "        return len(self.labels)"
   ]
  },
  {
   "cell_type": "code",
   "execution_count": 4,
   "id": "2b7a14c4",
   "metadata": {},
   "outputs": [],
   "source": [
    "def get_ATLAS_inputs(directory,network,batch_size=2**8,return_pt=False,transform=True):\n",
    "    \n",
    "    #Get list of input files\n",
    "    training_list=[]\n",
    "    testing_list=[]\n",
    "    for file in sorted(os.listdir(directory)):\n",
    "        if not \".h5\" in file: continue\n",
    "        if \"train\" in file:\n",
    "            print(\"Using file %s for training\"%(directory+\"/\"+file))\n",
    "            training_list.append(directory+\"/\"+file)\n",
    "        elif \"test\" in file:\n",
    "            print(\"Using file %s for testing\"%(directory+\"/\"+file))\n",
    "            testing_list.append(directory+\"/\"+file)\n",
    "    \n",
    "    #concat them\n",
    "    training_DSlist=[]\n",
    "    testing_DSlist=[]\n",
    "    if network!=\"HL\":\n",
    "        for file in training_list: training_DSlist.append(ATLASH5LowLevelDataset(file,return_pt=return_pt,transform=transform))\n",
    "        for file in testing_list: testing_DSlist.append(ATLASH5LowLevelDataset(file,return_pt=return_pt,transform=transform))\n",
    "    else:\n",
    "        for file in training_list: training_DSlist.append(ATLASH5HighLevelDataset(file,return_pt=return_pt,transform=transform))\n",
    "        for file in testing_list: testing_DSlist.append(ATLASH5HighLevelDataset(file,return_pt=return_pt,transform=transform))\n",
    "    training_data = ConcatDataset(training_DSlist)\n",
    "    testing_data = ConcatDataset(testing_DSlist)\n",
    "    \n",
    "    #load them into torch dataloaders \n",
    "    train_dataloader = DataLoader(training_data, batch_size=batch_size, shuffle=True, pin_memory=True, num_workers=0)\n",
    "    test_dataloader = DataLoader(testing_data, batch_size=batch_size, shuffle=True)\n",
    "    \n",
    "    #return\n",
    "    return train_dataloader, test_dataloader"
   ]
  },
  {
   "cell_type": "code",
   "execution_count": 5,
   "id": "1600d606",
   "metadata": {},
   "outputs": [],
   "source": [
    "class DNNetwork(nn.Module):\n",
    "    def __init__(self,Ninputs,useConstituents=False):\n",
    "        super().__init__()\n",
    "        self.useConstituents=useConstituents\n",
    "    \n",
    "        if self.useConstituents: self.flatten = nn.Flatten()\n",
    "        #self.norm=nn.BatchNorm1d(Ninputs)\n",
    "        self.fc1= nn.Linear(Ninputs, 512)\n",
    "        self.act1=nn.ReLU()\n",
    "        self.fc2= nn.Linear(512, 512)\n",
    "        self.act2=nn.ReLU()\n",
    "        self.fc3= nn.Linear(512, 512)\n",
    "        self.act3=nn.ReLU()\n",
    "        self.fc4= nn.Linear(512, 2)\n",
    "    \n",
    "    def forward(self, x):\n",
    "        if self.useConstituents: x = self.flatten(x)\n",
    "        #x=self.norm(x)\n",
    "        f1=self.act1(self.fc1(x))\n",
    "        f2=self.act2(self.fc2(f1))\n",
    "        f3=self.act3(self.fc3(f2))\n",
    "        logits = self.fc4(f3)\n",
    "        return logits"
   ]
  },
  {
   "cell_type": "code",
   "execution_count": 6,
   "id": "be979bc7",
   "metadata": {},
   "outputs": [
    {
     "name": "stdout",
     "output_type": "stream",
     "text": [
      "Using file .//test_nominal_000.h5 for testing\n",
      "Using file .//train_nominal_000.h5 for training\n"
     ]
    }
   ],
   "source": [
    "train_dataloader,test_dataloader=get_ATLAS_inputs(\"./\",\"HL\",batch_size=2**8,return_pt=True)"
   ]
  },
  {
   "cell_type": "code",
   "execution_count": 7,
   "id": "96338556",
   "metadata": {},
   "outputs": [
    {
     "name": "stdout",
     "output_type": "stream",
     "text": [
      "DNNetwork(\n",
      "  (fc1): Linear(in_features=16, out_features=512, bias=True)\n",
      "  (act1): ReLU()\n",
      "  (fc2): Linear(in_features=512, out_features=512, bias=True)\n",
      "  (act2): ReLU()\n",
      "  (fc3): Linear(in_features=512, out_features=512, bias=True)\n",
      "  (act3): ReLU()\n",
      "  (fc4): Linear(in_features=512, out_features=2, bias=True)\n",
      ")\n"
     ]
    }
   ],
   "source": [
    "Ndim = len(train_dataloader.dataset[0][0][0])\n",
    "device = \"cpu\"\n",
    "model = DNNetwork(Ndim).to(device)\n",
    "model.load_state_dict(torch.load(\"model.pth\"))\n",
    "print(model)"
   ]
  },
  {
   "cell_type": "code",
   "execution_count": 8,
   "id": "76da9f18",
   "metadata": {},
   "outputs": [],
   "source": [
    "#Load information into numpy arrays\n",
    "def load_score(dataloader):\n",
    "    ys=np.array([])\n",
    "    preds_raw=np.empty((0,2))\n",
    "    weights=np.array([])\n",
    "    pts=np.array([])\n",
    "    with torch.no_grad():\n",
    "        for (X, pt), y, w in dataloader:\n",
    "            #Get prediction\n",
    "            pred=model(X)\n",
    "            pred=torch.sigmoid(pred)\n",
    "\n",
    "            #append info\n",
    "            preds_raw=np.concatenate([preds_raw,pred.numpy()])\n",
    "            ys=np.concatenate([ys,y.numpy().flatten()])\n",
    "            pts=np.concatenate([pts,pt.numpy().flatten()])\n",
    "            weights=np.concatenate([weights,pt.numpy().flatten()])\n",
    "    return preds_raw,ys,weights,pts"
   ]
  },
  {
   "cell_type": "code",
   "execution_count": 9,
   "id": "8ec6b996",
   "metadata": {},
   "outputs": [],
   "source": [
    "preds_raw,ys,weights,pts=load_score(train_dataloader)"
   ]
  },
  {
   "cell_type": "code",
   "execution_count": 10,
   "id": "130dcc47",
   "metadata": {},
   "outputs": [
    {
     "data": {
      "image/png": "[encoded data removed]",
      "text/plain": [
       "<Figure size 640x480 with 2 Axes>"
      ]
     },
     "metadata": {},
     "output_type": "display_data"
    }
   ],
   "source": [
    "#make confusion matrix\n",
    "disp=metrics.ConfusionMatrixDisplay.from_predictions(ys, np.argmax(preds_raw,axis=1),normalize=\"true\",cmap=\"Blues\",display_labels=[\"quark\",\"top\"])\n",
    "plt.savefig(\"confusion.pdf\") "
   ]
  },
  {
   "cell_type": "code",
   "execution_count": 11,
   "id": "4ef23d4e",
   "metadata": {},
   "outputs": [],
   "source": [
    "#Decision rule\n",
    "preds=np.log(preds_raw[:,0])/np.log(preds_raw[:,1])"
   ]
  },
  {
   "cell_type": "code",
   "execution_count": 12,
   "id": "4beb211a",
   "metadata": {},
   "outputs": [
    {
     "name": "stderr",
     "output_type": "stream",
     "text": [
      "/Users/les/venv/CometaTutorial/lib/python3.7/site-packages/ipykernel_launcher.py:4: RuntimeWarning: divide by zero encountered in true_divide\n",
      "  after removing the cwd from sys.path.\n"
     ]
    },
    {
     "data": {
      "image/png": "[encoded data removed]",
      "text/plain": [
       "<Figure size 640x480 with 1 Axes>"
      ]
     },
     "metadata": {},
     "output_type": "display_data"
    }
   ],
   "source": [
    "#make ROC curve\n",
    "fpr, tpr, thresholds = metrics.roc_curve(ys, preds, sample_weight=weights)\n",
    "fig, ax = plt.subplots()\n",
    "ax.plot(tpr,1/fpr)\n",
    "ax.set_yscale('log')\n",
    "ax.set_xlim([0.1, 1.0])\n",
    "fig.savefig(\"ROC.pdf\") "
   ]
  },
  {
   "cell_type": "code",
   "execution_count": 13,
   "id": "e1f7521e",
   "metadata": {},
   "outputs": [
    {
     "name": "stdout",
     "output_type": "stream",
     "text": [
      "50% decision threshold of 2.590387076048685 gives rejection of 21.7\n"
     ]
    }
   ],
   "source": [
    "#Find 50% working point\n",
    "index_of_wp=np.argmax(tpr>0.5)\n",
    "wp50=thresholds[index_of_wp]\n",
    "rej50=fpr[index_of_wp]\n",
    "print(f\"50% decision threshold of {wp50} gives rejection of {1/rej50:.1f}\")"
   ]
  },
  {
   "cell_type": "code",
   "execution_count": 14,
   "id": "c8717a78",
   "metadata": {},
   "outputs": [],
   "source": [
    "# make rejection plot at working point\n",
    "def rejection_hist(ys,preds,pts,bins,wp):\n",
    "    N_accepted=np.zeros(Nbins)\n",
    "    N_all=np.zeros(Nbins)\n",
    "    bkg_indices=np.argwhere(ys==0)\n",
    "    bkg_pts=pts[bkg_indices]\n",
    "    bkg_preds=preds[bkg_indices]\n",
    "    for ii in range(len(bkg_indices)):\n",
    "        \n",
    "        #find bin\n",
    "        binx=int(np.floor(bkg_pts[ii]/(bins[1])))\n",
    "        if binx>len(N_all)-1: continue\n",
    "\n",
    "        #Fill the arrays\n",
    "        N_all[binx]+=1\n",
    "        if bkg_preds[ii]>wp: N_accepted[binx]+=1\n",
    "            \n",
    "    return np.nan_to_num(N_all/N_accepted)"
   ]
  },
  {
   "cell_type": "code",
   "execution_count": 15,
   "id": "e7b2d14c",
   "metadata": {},
   "outputs": [
    {
     "data": {
      "image/png": "[encoded data removed]",
      "text/plain": [
       "<Figure size 640x480 with 1 Axes>"
      ]
     },
     "metadata": {},
     "output_type": "display_data"
    }
   ],
   "source": [
    "Nbins=10\n",
    "bins=np.linspace(0,3e6,Nbins+1,endpoint=True)\n",
    "nom_hist=rejection_hist(ys,preds,pts,bins,wp50)\n",
    "\n",
    "fig, ax = plt.subplots()\n",
    "ax.errorbar((bins[1:]+bins[:-1])/2, nom_hist, xerr=(bins[1:]-bins[:-1])/2,fmt='o')\n",
    "fig.savefig(f\"rejection_pt.pdf\")"
   ]
  },
  {
   "cell_type": "code",
   "execution_count": 16,
   "id": "882d63e8",
   "metadata": {},
   "outputs": [],
   "source": [
    "if not(os.path.isfile(\"ttbar_herwig_000.h5\")):\n",
    "    if sys.platform==\"darwin\": #MAC OSX\n",
    "        !curl https://opendata.cern.ch/record/80030/files/assets/atlas/datascience/CERN-EP-2024-159/ttbar_herwig_000.h5.gz --output ttbar_herwig_000.h5.gz\n",
    "    elif sys.platform == \"linux\" or sys.platform == \"linux2\":\n",
    "        !wget https://opendata.cern.ch/record/80030/files/assets/atlas/datascience/CERN-EP-2024-159/ttbar_herwig_000.h5.gz \n",
    "    !gunzip -f ttbar_herwig_000.h5.gz"
   ]
  },
  {
   "cell_type": "code",
   "execution_count": 17,
   "id": "44dcfd10",
   "metadata": {},
   "outputs": [],
   "source": [
    "altsig_data=ATLASH5HighLevelDataset(\"ttbar_herwig_000.h5\",return_pt=True)\n",
    "altsig_dataloader = DataLoader(altsig_data, batch_size=2**8, shuffle=True)\n",
    "\n",
    "altsig_preds_raw,altsig_ys,altsig_weights,altsig_pts=load_score(altsig_dataloader)\n",
    "altsig_preds=np.log(altsig_preds_raw[:,0])/np.log(altsig_preds_raw[:,1])"
   ]
  },
  {
   "cell_type": "code",
   "execution_count": 31,
   "id": "ad068ad7",
   "metadata": {},
   "outputs": [
    {
     "name": "stdout",
     "output_type": "stream",
     "text": [
      "1.6697688094521483\n"
     ]
    }
   ],
   "source": [
    "bkg_indices=np.argwhere(ys==0)\n",
    "altsig_fpr, altsig_tpr, altsig_thresholds = metrics.roc_curve(np.concatenate([altsig_ys,ys[bkg_indices].flatten()]), np.concatenate([altsig_preds,preds[bkg_indices].flatten()]), sample_weight=np.concatenate([altsig_weights,weights[bkg_indices].flatten()]))\n",
    "altsig_wp50=alt_thresholds[np.argmax(altsig_tpr>0.5)]\n",
    "print(alt_wp50)"
   ]
  },
  {
   "cell_type": "code",
   "execution_count": 39,
   "id": "90fede7e",
   "metadata": {},
   "outputs": [
    {
     "name": "stdout",
     "output_type": "stream",
     "text": [
      "  % Total    % Received % Xferd  Average Speed   Time    Time     Time  Current\n",
      "                                 Dload  Upload   Total   Spent    Left  Speed\n",
      "100 80.0M    0 80.0M    0     0  25.9M      0 --:--:--  0:00:03 --:--:-- 25.9M\n"
     ]
    }
   ],
   "source": [
    "if not(os.path.isfile(\"angular_000.h5\")):\n",
    "    if sys.platform==\"darwin\": #MAC OSX\n",
    "        !curl https://opendata.cern.ch/record/80030/files/assets/atlas/datascience/CERN-EP-2024-159/angular_000.h5.gz --output angular_000.h5.gz\n",
    "    elif sys.platform == \"linux\" or sys.platform == \"linux2\":\n",
    "        !wget https://opendata.cern.ch/record/80030/files/assets/atlas/datascience/CERN-EP-2024-159/angular_000.h5.gz\n",
    "    !gunzip -f angular_000.h5.gz"
   ]
  },
  {
   "cell_type": "code",
   "execution_count": 40,
   "id": "4a222536",
   "metadata": {},
   "outputs": [],
   "source": [
    "altbkg_data=ATLASH5HighLevelDataset(\"angular_000.h5\",return_pt=True)\n",
    "altbkg_dataloader = DataLoader(altbkg_data, batch_size=2**8, shuffle=True)\n",
    "\n",
    "altbkg_preds_raw,altbkg_ys,altbkg_weights,altbkg_pts=load_score(altbkg_dataloader)\n",
    "altbkg_preds=np.log(altbkg_preds_raw[:,0])/np.log(altbkg_preds_raw[:,1])"
   ]
  },
  {
   "cell_type": "code",
   "execution_count": 42,
   "id": "1c246310",
   "metadata": {},
   "outputs": [],
   "source": [
    "altsig_hist=rejection_hist(ys,preds,pts,bins,alt_wp50)\n",
    "altbkg_hist=rejection_hist(altbkg_ys,altbkg_preds,altbkg_pts,bins,wp50)"
   ]
  },
  {
   "cell_type": "code",
   "execution_count": 44,
   "id": "c421b0f1",
   "metadata": {},
   "outputs": [
    {
     "data": {
      "image/png": "[encoded data removed]",
      "text/plain": [
       "<Figure size 640x480 with 1 Axes>"
      ]
     },
     "metadata": {},
     "output_type": "display_data"
    }
   ],
   "source": [
    "fig, ax = plt.subplots()\n",
    "ax.errorbar((bins[1:]+bins[:-1])/2, nom_hist, xerr=(bins[1:]-bins[:-1])/2,fmt='o',label=\"Nominal\")\n",
    "ax.errorbar((bins[1:]+bins[:-1])/2, altsig_hist, xerr=(bins[1:]-bins[:-1])/2,fmt='o',label=\"Alt Signal\")\n",
    "ax.errorbar((bins[1:]+bins[:-1])/2, altbkg_hist, xerr=(bins[1:]-bins[:-1])/2,fmt='o',label=\"Alt Background\")\n",
    "plt.legend()\n",
    "fig.savefig(f\"rejection_comparison_pt.pdf\")"
   ]
  },
  {
   "cell_type": "code",
   "execution_count": null,
   "id": "afe83d1a",
   "metadata": {},
   "outputs": [],
   "source": []
  }
 ],
 "metadata": {
  "kernelspec": {
   "display_name": "CometaTutorial-venv",
   "language": "python",
   "name": "cometatutorial-venv"
  },
  "language_info": {
   "codemirror_mode": {
    "name": "ipython",
    "version": 3
   },
   "file_extension": ".py",
   "mimetype": "text/x-python",
   "name": "python",
   "nbconvert_exporter": "python",
   "pygments_lexer": "ipython3",
   "version": "3.7.3"
  }
 },
 "nbformat": 4,
 "nbformat_minor": 5
}
